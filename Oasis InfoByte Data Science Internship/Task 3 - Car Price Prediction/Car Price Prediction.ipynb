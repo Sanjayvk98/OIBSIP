{
 "cells":[
  {
   "cell_type":"code",
   "source":[
    "import datetime\n",
    "\n",
    "from numpy import ndarray\n",
    "import numpy as np\n",
    "import pandas as pd\n",
    "\n",
    "import matplotlib.pyplot as plt\n",
    "import seaborn as sns\n",
    "%matplotlib inline\n",
    "\n",
    "from sklearn.model_selection import train_test_split\n",
    "from sklearn.linear_model import LinearRegression\n",
    "from sklearn.ensemble import RandomForestRegressor\n",
    "from sklearn.preprocessing import StandardScaler\n",
    "from sklearn.metrics import r2_score"
   ],
   "execution_count":51,
   "outputs":[
    
   ],
   "metadata":{
    "datalore":{
     "node_id":"2LeqAvYrOTkZzxq8oUv0yY",
     "type":"CODE",
     "hide_input_from_viewers":true,
     "hide_output_from_viewers":true
    }
   }
  },
  {
   "cell_type":"code",
   "source":[
    "car_dataset=pd.read_csv('Car Dataset.csv')"
   ],
   "execution_count":3,
   "outputs":[
    
   ],
   "metadata":{
    "datalore":{
     "node_id":"23eMLJOKc4T5isgMH4Fzx1",
     "type":"CODE",
     "hide_input_from_viewers":true,
     "hide_output_from_viewers":true
    }
   }
  },
  {
   "cell_type":"code",
   "source":[
    "print(car_dataset.head())"
   ],
   "execution_count":5,
   "outputs":[
    {
     "name":"stdout",
     "text":[
      "   car_ID  symboling                   CarName fueltype aspiration doornumber  \\\n",
      "0       1          3        alfa-romero giulia      gas        std        two   \n",
      "1       2          3       alfa-romero stelvio      gas        std        two   \n",
      "2       3          1  alfa-romero Quadrifoglio      gas        std        two   \n",
      "3       4          2               audi 100 ls      gas        std       four   \n",
      "4       5          2                audi 100ls      gas        std       four   \n",
      "\n",
      "       carbody drivewheel enginelocation  wheelbase  ...  enginesize  \\\n",
      "0  convertible        rwd          front       88.6  ...         130   \n",
      "1  convertible        rwd          front       88.6  ...         130   \n",
      "2    hatchback        rwd          front       94.5  ...         152   \n",
      "3        sedan        fwd          front       99.8  ...         109   \n",
      "4        sedan        4wd          front       99.4  ...         136   \n",
      "\n",
      "   fuelsystem  boreratio  stroke compressionratio horsepower  peakrpm citympg  \\\n",
      "0        mpfi       3.47    2.68              9.0        111     5000      21   \n",
      "1        mpfi       3.47    2.68              9.0        111     5000      21   \n",
      "2        mpfi       2.68    3.47              9.0        154     5000      19   \n",
      "3        mpfi       3.19    3.40             10.0        102     5500      24   \n",
      "4        mpfi       3.19    3.40              8.0        115     5500      18   \n",
      "\n",
      "   highwaympg    price  \n",
      "0          27  13495.0  \n",
      "1          27  16500.0  \n",
      "2          26  16500.0  \n",
      "3          30  13950.0  \n",
      "4          22  17450.0  \n",
      "\n",
      "[5 rows x 26 columns]\n"
     ],
     "output_type":"stream"
    }
   ],
   "metadata":{
    "datalore":{
     "node_id":"3eps0U8fVwmMjAH3DQuF2l",
     "type":"CODE",
     "hide_input_from_viewers":true,
     "hide_output_from_viewers":true
    }
   }
  },
  {
   "cell_type":"code",
   "source":[
    "car_dataset.info()"
   ],
   "execution_count":7,
   "outputs":[
    {
     "name":"stdout",
     "text":[
      "<class 'pandas.core.frame.DataFrame'>\n",
      "RangeIndex: 205 entries, 0 to 204\n",
      "Data columns (total 26 columns):\n",
      " #   Column            Non-Null Count  Dtype  \n",
      "---  ------            --------------  -----  \n",
      " 0   car_ID            205 non-null    int64  \n",
      " 1   symboling         205 non-null    int64  \n",
      " 2   CarName           205 non-null    object \n",
      " 3   fueltype          205 non-null    object \n",
      " 4   aspiration        205 non-null    object \n",
      " 5   doornumber        205 non-null    object \n",
      " 6   carbody           205 non-null    object \n",
      " 7   drivewheel        205 non-null    object \n",
      " 8   enginelocation    205 non-null    object \n",
      " 9   wheelbase         205 non-null    float64\n",
      " 10  carlength         205 non-null    float64\n",
      " 11  carwidth          205 non-null    float64\n",
      " 12  carheight         205 non-null    float64\n",
      " 13  curbweight        205 non-null    int64  \n",
      " 14  enginetype        205 non-null    object \n",
      " 15  cylindernumber    205 non-null    object \n",
      " 16  enginesize        205 non-null    int64  \n",
      " 17  fuelsystem        205 non-null    object \n",
      " 18  boreratio         205 non-null    float64\n",
      " 19  stroke            205 non-null    float64\n",
      " 20  compressionratio  205 non-null    float64\n",
      " 21  horsepower        205 non-null    int64  \n",
      " 22  peakrpm           205 non-null    int64  \n",
      " 23  citympg           205 non-null    int64  \n",
      " 24  highwaympg        205 non-null    int64  \n",
      " 25  price             205 non-null    float64\n",
      "dtypes: float64(8), int64(8), object(10)\n",
      "memory usage: 41.8+ KB\n"
     ],
     "output_type":"stream"
    }
   ],
   "metadata":{
    "datalore":{
     "node_id":"DPN3LxfPKRfqwHt1sHoEQu",
     "type":"CODE",
     "hide_input_from_viewers":true,
     "hide_output_from_viewers":true
    }
   }
  },
  {
   "cell_type":"code",
   "source":[
    "car_dataset.shape"
   ],
   "execution_count":8,
   "outputs":[
    {
     "data":{
      "text\/plain":[
       "(205, 26)"
      ]
     },
     "metadata":{
      
     },
     "output_type":"display_data"
    }
   ],
   "metadata":{
    "datalore":{
     "node_id":"urnGsl9qznUdZPEICV4ukr",
     "type":"CODE",
     "hide_input_from_viewers":true,
     "hide_output_from_viewers":true
    }
   }
  },
  {
   "cell_type":"code",
   "source":[
    "#checking missing values\n",
    "car_dataset.isnull().sum()"
   ],
   "execution_count":9,
   "outputs":[
    {
     "data":{
      "text\/html":[
       "<pre>car_ID              0\n",
       "symboling           0\n",
       "CarName             0\n",
       "fueltype            0\n",
       "aspiration          0\n",
       "doornumber          0\n",
       "carbody             0\n",
       "drivewheel          0\n",
       "enginelocation      0\n",
       "wheelbase           0\n",
       "carlength           0\n",
       "carwidth            0\n",
       "carheight           0\n",
       "curbweight          0\n",
       "enginetype          0\n",
       "cylindernumber      0\n",
       "enginesize          0\n",
       "fuelsystem          0\n",
       "boreratio           0\n",
       "stroke              0\n",
       "compressionratio    0\n",
       "horsepower          0\n",
       "peakrpm             0\n",
       "citympg             0\n",
       "highwaympg          0\n",
       "price               0\n",
       "dtype: int64<\/pre>"
      ]
     },
     "metadata":{
      
     },
     "output_type":"display_data"
    }
   ],
   "metadata":{
    "datalore":{
     "node_id":"kPgpjKogYyeZduaY0dJRwv",
     "type":"CODE",
     "hide_input_from_viewers":true,
     "hide_output_from_viewers":true
    }
   }
  },
  {
   "cell_type":"code",
   "source":[
    "# replace missing values if present\n",
    "#checking the distribution of categorial data\n",
    "print(car_dataset.CarName.value_counts())"
   ],
   "execution_count":10,
   "outputs":[
    {
     "name":"stdout",
     "text":[
      "toyota corona           6\n",
      "toyota corolla          6\n",
      "peugeot 504             6\n",
      "subaru dl               4\n",
      "mitsubishi mirage g4    3\n",
      "                       ..\n",
      "mazda glc 4             1\n",
      "mazda rx2 coupe         1\n",
      "maxda glc deluxe        1\n",
      "maxda rx3               1\n",
      "volvo 246               1\n",
      "Name: CarName, Length: 147, dtype: int64\n"
     ],
     "output_type":"stream"
    }
   ],
   "metadata":{
    "datalore":{
     "node_id":"dbwXZNJ04J15Xdx1DUuRU1",
     "type":"CODE",
     "hide_input_from_viewers":true,
     "hide_output_from_viewers":true
    }
   }
  },
  {
   "cell_type":"code",
   "source":[
    "print(car_dataset.aspiration.value_counts())"
   ],
   "execution_count":11,
   "outputs":[
    {
     "name":"stdout",
     "text":[
      "std      168\n",
      "turbo     37\n",
      "Name: aspiration, dtype: int64\n"
     ],
     "output_type":"stream"
    }
   ],
   "metadata":{
    "datalore":{
     "node_id":"1umfHaimKq3uyGPYjCunU1",
     "type":"CODE",
     "hide_input_from_viewers":true,
     "hide_output_from_viewers":true
    }
   }
  },
  {
   "cell_type":"code",
   "source":[
    "print(car_dataset.carbody.value_counts())"
   ],
   "execution_count":12,
   "outputs":[
    {
     "name":"stdout",
     "text":[
      "sedan          96\n",
      "hatchback      70\n",
      "wagon          25\n",
      "hardtop         8\n",
      "convertible     6\n",
      "Name: carbody, dtype: int64\n"
     ],
     "output_type":"stream"
    }
   ],
   "metadata":{
    "datalore":{
     "node_id":"FKTsvbZ2sx1bHOiSUNzCc5",
     "type":"CODE",
     "hide_input_from_viewers":true,
     "hide_output_from_viewers":true
    }
   }
  },
  {
   "cell_type":"code",
   "source":[
    "print(car_dataset.CarName)"
   ],
   "execution_count":13,
   "outputs":[
    {
     "name":"stdout",
     "text":[
      "0            alfa-romero giulia\n",
      "1           alfa-romero stelvio\n",
      "2      alfa-romero Quadrifoglio\n",
      "3                   audi 100 ls\n",
      "4                    audi 100ls\n",
      "                 ...           \n",
      "200             volvo 145e (sw)\n",
      "201                 volvo 144ea\n",
      "202                 volvo 244dl\n",
      "203                   volvo 246\n",
      "204                 volvo 264gl\n",
      "Name: CarName, Length: 205, dtype: object\n"
     ],
     "output_type":"stream"
    }
   ],
   "metadata":{
    "datalore":{
     "node_id":"pPfuzvIaTfg2K3ASTITgeH",
     "type":"CODE",
     "hide_input_from_viewers":true,
     "hide_output_from_viewers":true
    }
   }
  },
  {
   "cell_type":"code",
   "source":[
    "print(car_dataset.enginelocation.value_counts())"
   ],
   "execution_count":14,
   "outputs":[
    {
     "name":"stdout",
     "text":[
      "front    202\n",
      "rear       3\n",
      "Name: enginelocation, dtype: int64\n"
     ],
     "output_type":"stream"
    }
   ],
   "metadata":{
    "datalore":{
     "node_id":"PJS26pwHzK0gITaLfENPQW",
     "type":"CODE",
     "hide_input_from_viewers":true,
     "hide_output_from_viewers":true
    }
   }
  },
  {
   "cell_type":"code",
   "source":[
    "print(car_dataset.drivewheel.value_counts())"
   ],
   "execution_count":15,
   "outputs":[
    {
     "name":"stdout",
     "text":[
      "fwd    120\n",
      "rwd     76\n",
      "4wd      9\n",
      "Name: drivewheel, dtype: int64\n"
     ],
     "output_type":"stream"
    }
   ],
   "metadata":{
    "datalore":{
     "node_id":"zLXnwSFBrZWJkBZuJXx2oO",
     "type":"CODE",
     "hide_input_from_viewers":true,
     "hide_output_from_viewers":true
    }
   }
  },
  {
   "cell_type":"code",
   "source":[
    "print(car_dataset.fuelsystem.value_counts())"
   ],
   "execution_count":16,
   "outputs":[
    {
     "name":"stdout",
     "text":[
      "mpfi    94\n",
      "2bbl    66\n",
      "idi     20\n",
      "1bbl    11\n",
      "spdi     9\n",
      "4bbl     3\n",
      "mfi      1\n",
      "spfi     1\n",
      "Name: fuelsystem, dtype: int64\n"
     ],
     "output_type":"stream"
    }
   ],
   "metadata":{
    "datalore":{
     "node_id":"d7TjcJdw6PffUlnNUIfZzA",
     "type":"CODE",
     "hide_input_from_viewers":true,
     "hide_output_from_viewers":true
    }
   }
  },
  {
   "cell_type":"code",
   "source":[
    "print(car_dataset.enginetype.value_counts())"
   ],
   "execution_count":17,
   "outputs":[
    {
     "name":"stdout",
     "text":[
      "ohc      148\n",
      "ohcf      15\n",
      "ohcv      13\n",
      "dohc      12\n",
      "l         12\n",
      "rotor      4\n",
      "dohcv      1\n",
      "Name: enginetype, dtype: int64\n"
     ],
     "output_type":"stream"
    }
   ],
   "metadata":{
    "datalore":{
     "node_id":"52uFomPT4JJpyX3y3n9uBh",
     "type":"CODE",
     "hide_input_from_viewers":true,
     "hide_output_from_viewers":true
    }
   }
  },
  {
   "cell_type":"code",
   "source":[
    "car_dataset.replace({'fueltype':{'gas':0,'diesel':1,'petrol':2}},inplace=True)\n",
    "car_dataset.replace({'carbody':{'sedan':0,'hatchback':1,'wagon':2,'hardtop':3,'convertible':4}},inplace=True)\n",
    "car_dataset.replace({'aspiration':{'std':0,'turbo':1}},inplace=True)\n",
    "car_dataset.replace({'drivewheel':{'fwd':0,'rwd':1,'4wd':2}},inplace=True)\n",
    "car_dataset.replace({'enginelocation':{'front':0,'rear':1}},inplace=True)\n",
    "car_dataset.replace({'fuelsystem':{'mpfi':0,'2bbl':1,'idi':2,'1bbl':3,'spdi':4,'4bbl':5,'mfi':6,'spfi':7}},inplace=True)\n",
    "car_dataset.replace({'enginetype':{'ohc':0,'ohcf':1,'ohcv':2,'dohc':3,'l':4,'rotor':5,'dohcv':6}},inplace=True)"
   ],
   "execution_count":18,
   "outputs":[
    
   ],
   "metadata":{
    "datalore":{
     "node_id":"XQwkyhxn9AFa0IkIGCLEKL",
     "type":"CODE",
     "hide_input_from_viewers":true,
     "hide_output_from_viewers":true
    }
   }
  },
  {
   "cell_type":"code",
   "source":[
    "car_dataset.head()"
   ],
   "execution_count":19,
   "outputs":[
    {
     "data":{
      "text\/html":[
       "<div>\n",
       "<style scoped>\n",
       "    .dataframe tbody tr th:only-of-type {\n",
       "        vertical-align: middle;\n",
       "    }\n",
       "\n",
       "    .dataframe tbody tr th {\n",
       "        vertical-align: top;\n",
       "    }\n",
       "\n",
       "    .dataframe thead th {\n",
       "        text-align: right;\n",
       "    }\n",
       "<\/style>\n",
       "<table border=\"1\" class=\"dataframe\">\n",
       "  <thead>\n",
       "    <tr style=\"text-align: right;\">\n",
       "      <th><\/th>\n",
       "      <th>car_ID<\/th>\n",
       "      <th>symboling<\/th>\n",
       "      <th>CarName<\/th>\n",
       "      <th>fueltype<\/th>\n",
       "      <th>aspiration<\/th>\n",
       "      <th>doornumber<\/th>\n",
       "      <th>carbody<\/th>\n",
       "      <th>drivewheel<\/th>\n",
       "      <th>enginelocation<\/th>\n",
       "      <th>wheelbase<\/th>\n",
       "      <th>...<\/th>\n",
       "      <th>enginesize<\/th>\n",
       "      <th>fuelsystem<\/th>\n",
       "      <th>boreratio<\/th>\n",
       "      <th>stroke<\/th>\n",
       "      <th>compressionratio<\/th>\n",
       "      <th>horsepower<\/th>\n",
       "      <th>peakrpm<\/th>\n",
       "      <th>citympg<\/th>\n",
       "      <th>highwaympg<\/th>\n",
       "      <th>price<\/th>\n",
       "    <\/tr>\n",
       "  <\/thead>\n",
       "  <tbody>\n",
       "    <tr>\n",
       "      <th>0<\/th>\n",
       "      <td>1<\/td>\n",
       "      <td>3<\/td>\n",
       "      <td>alfa-romero giulia<\/td>\n",
       "      <td>0<\/td>\n",
       "      <td>0<\/td>\n",
       "      <td>two<\/td>\n",
       "      <td>4<\/td>\n",
       "      <td>1<\/td>\n",
       "      <td>0<\/td>\n",
       "      <td>88.6<\/td>\n",
       "      <td>...<\/td>\n",
       "      <td>130<\/td>\n",
       "      <td>0<\/td>\n",
       "      <td>3.47<\/td>\n",
       "      <td>2.68<\/td>\n",
       "      <td>9.0<\/td>\n",
       "      <td>111<\/td>\n",
       "      <td>5000<\/td>\n",
       "      <td>21<\/td>\n",
       "      <td>27<\/td>\n",
       "      <td>13495.0<\/td>\n",
       "    <\/tr>\n",
       "    <tr>\n",
       "      <th>1<\/th>\n",
       "      <td>2<\/td>\n",
       "      <td>3<\/td>\n",
       "      <td>alfa-romero stelvio<\/td>\n",
       "      <td>0<\/td>\n",
       "      <td>0<\/td>\n",
       "      <td>two<\/td>\n",
       "      <td>4<\/td>\n",
       "      <td>1<\/td>\n",
       "      <td>0<\/td>\n",
       "      <td>88.6<\/td>\n",
       "      <td>...<\/td>\n",
       "      <td>130<\/td>\n",
       "      <td>0<\/td>\n",
       "      <td>3.47<\/td>\n",
       "      <td>2.68<\/td>\n",
       "      <td>9.0<\/td>\n",
       "      <td>111<\/td>\n",
       "      <td>5000<\/td>\n",
       "      <td>21<\/td>\n",
       "      <td>27<\/td>\n",
       "      <td>16500.0<\/td>\n",
       "    <\/tr>\n",
       "    <tr>\n",
       "      <th>2<\/th>\n",
       "      <td>3<\/td>\n",
       "      <td>1<\/td>\n",
       "      <td>alfa-romero Quadrifoglio<\/td>\n",
       "      <td>0<\/td>\n",
       "      <td>0<\/td>\n",
       "      <td>two<\/td>\n",
       "      <td>1<\/td>\n",
       "      <td>1<\/td>\n",
       "      <td>0<\/td>\n",
       "      <td>94.5<\/td>\n",
       "      <td>...<\/td>\n",
       "      <td>152<\/td>\n",
       "      <td>0<\/td>\n",
       "      <td>2.68<\/td>\n",
       "      <td>3.47<\/td>\n",
       "      <td>9.0<\/td>\n",
       "      <td>154<\/td>\n",
       "      <td>5000<\/td>\n",
       "      <td>19<\/td>\n",
       "      <td>26<\/td>\n",
       "      <td>16500.0<\/td>\n",
       "    <\/tr>\n",
       "    <tr>\n",
       "      <th>3<\/th>\n",
       "      <td>4<\/td>\n",
       "      <td>2<\/td>\n",
       "      <td>audi 100 ls<\/td>\n",
       "      <td>0<\/td>\n",
       "      <td>0<\/td>\n",
       "      <td>four<\/td>\n",
       "      <td>0<\/td>\n",
       "      <td>0<\/td>\n",
       "      <td>0<\/td>\n",
       "      <td>99.8<\/td>\n",
       "      <td>...<\/td>\n",
       "      <td>109<\/td>\n",
       "      <td>0<\/td>\n",
       "      <td>3.19<\/td>\n",
       "      <td>3.40<\/td>\n",
       "      <td>10.0<\/td>\n",
       "      <td>102<\/td>\n",
       "      <td>5500<\/td>\n",
       "      <td>24<\/td>\n",
       "      <td>30<\/td>\n",
       "      <td>13950.0<\/td>\n",
       "    <\/tr>\n",
       "    <tr>\n",
       "      <th>4<\/th>\n",
       "      <td>5<\/td>\n",
       "      <td>2<\/td>\n",
       "      <td>audi 100ls<\/td>\n",
       "      <td>0<\/td>\n",
       "      <td>0<\/td>\n",
       "      <td>four<\/td>\n",
       "      <td>0<\/td>\n",
       "      <td>2<\/td>\n",
       "      <td>0<\/td>\n",
       "      <td>99.4<\/td>\n",
       "      <td>...<\/td>\n",
       "      <td>136<\/td>\n",
       "      <td>0<\/td>\n",
       "      <td>3.19<\/td>\n",
       "      <td>3.40<\/td>\n",
       "      <td>8.0<\/td>\n",
       "      <td>115<\/td>\n",
       "      <td>5500<\/td>\n",
       "      <td>18<\/td>\n",
       "      <td>22<\/td>\n",
       "      <td>17450.0<\/td>\n",
       "    <\/tr>\n",
       "  <\/tbody>\n",
       "<\/table>\n",
       "<p>5 rows × 26 columns<\/p>\n",
       "<\/div>"
      ]
     },
     "metadata":{
      
     },
     "output_type":"display_data"
    }
   ],
   "metadata":{
    "datalore":{
     "node_id":"vsodrcdFp31hQwJN7KUWOM",
     "type":"CODE",
     "hide_input_from_viewers":true,
     "hide_output_from_viewers":true
    }
   }
  },
  {
   "cell_type":"code",
   "source":[
    "#fueltype\n",
    "colors=sns.color_palette('pastel')\n",
    "labels=car_dataset['fueltype'].dropna().unique()\n",
    "plt.figure(figsize=(18,10))\n",
    "plt.subplot(1,2,1)\n",
    "plt.title('fueltype_Percentage')\n",
    "plt.pie(car_dataset['fueltype'].value_counts(),labels=labels,colors=colors,autopct='%.2f%%')\n",
    "plt.subplot(1,2,2)\n",
    "plt.title('fueltype Bar Chart')\n",
    "sns.countplot(x=\"fueltype\",data=car_dataset,palette=colors)\n",
    "car_dataset.fueltype.value_counts(dropna=False)"
   ],
   "execution_count":102,
   "outputs":[
    {
     "data":{
      "text\/html":[
       "<pre>0    185\n",
       "1     20\n",
       "Name: fueltype, dtype: int64<\/pre>"
      ]
     },
     "metadata":{
      
     },
     "output_type":"display_data"
    },
    {
     "data":{
      "image\/png":"[encoded data removed]"
     },
     "metadata":{
      "image\/png":{
       
      }
     },
     "output_type":"display_data"
    }
   ],
   "metadata":{
    "datalore":{
     "node_id":"swIiXIW8wxAIfbOoyxPt7B",
     "type":"CODE",
     "hide_input_from_viewers":true,
     "hide_output_from_viewers":true
    }
   }
  },
  {
   "cell_type":"code",
   "source":[
    "df=pd.DataFrame(car_dataset.groupby([\"fueltype\"])['price'].mean().sort_values(ascending=False))\n",
    "df.plot.bar()\n",
    "plt.title(\"Fuel Type vs Average Price\")\n",
    "plt.show()\n",
    "df=pd.DataFrame(car_dataset.groupby([\"carbody\"])[\"price\"].mean().sort_values(ascending=False))\n",
    "df.plot.bar()\n",
    "plt.title('car Type vs Average price')\n",
    "plt.show()"
   ],
   "execution_count":103,
   "outputs":[
    {
     "data":{
      "image\/png":"[encoded data removed]"
     },
     "metadata":{
      "image\/png":{
       
      }
     },
     "output_type":"display_data"
    },
    {
     "data":{
      "image\/png":"[encoded data removed]"
     },
     "metadata":{
      "image\/png":{
       
      }
     },
     "output_type":"display_data"
    }
   ],
   "metadata":{
    "datalore":{
     "node_id":"Ka27lJqp99qUwZgORx7wTM",
     "type":"CODE",
     "hide_input_from_viewers":true,
     "hide_output_from_viewers":true
    }
   }
  },
  {
   "cell_type":"code",
   "source":[
    "predict=\"price\"\n",
    "data=car_dataset[[\"symboling\",\"wheelbase\",\"carwidth\",\"carheight\",\"curbweight\",\"boreratio\",\"stroke\",\"compressionratio\",\"horsepower\",\"peakrpm\",\"citympg\",\"highwaympg\",\"price\"]]\n",
    "           \n",
    "x: =np.array(data.drop([predict],1))\n",
    "y=np.array(data[predict])"
   ],
   "execution_count":105,
   "outputs":[
    {
     "name":"stderr",
     "text":[
      "<ipython-input-105-621a1ce144b6>:4: FutureWarning: In a future version of pandas all arguments of DataFrame.drop except for the argument 'labels' will be keyword-only.\n",
      "  x=np.array(data.drop([predict],1))\n"
     ],
     "output_type":"stream"
    }
   ],
   "metadata":{
    "datalore":{
     "node_id":"9duZpejtKuLoLXgBkh7spN",
     "type":"CODE",
     "hide_input_from_viewers":true,
     "hide_output_from_viewers":true
    }
   }
  },
  {
   "cell_type":"code",
   "source":[
    "print(x)\n",
    "print(y)"
   ],
   "execution_count":106,
   "outputs":[
    {
     "name":"stdout",
     "text":[
      "[[ 3.000e+00  8.860e+01  6.410e+01 ...  5.000e+03  2.100e+01  2.700e+01]\n",
      " [ 3.000e+00  8.860e+01  6.410e+01 ...  5.000e+03  2.100e+01  2.700e+01]\n",
      " [ 1.000e+00  9.450e+01  6.550e+01 ...  5.000e+03  1.900e+01  2.600e+01]\n",
      " ...\n",
      " [-1.000e+00  1.091e+02  6.890e+01 ...  5.500e+03  1.800e+01  2.300e+01]\n",
      " [-1.000e+00  1.091e+02  6.890e+01 ...  4.800e+03  2.600e+01  2.700e+01]\n",
      " [-1.000e+00  1.091e+02  6.890e+01 ...  5.400e+03  1.900e+01  2.500e+01]]\n",
      "[13495.    16500.    16500.    13950.    17450.    15250.    17710.\n",
      " 18920.    23875.    17859.167 16430.    16925.    20970.    21105.\n",
      " 24565.    30760.    41315.    36880.     5151.     6295.     6575.\n",
      "  5572.     6377.     7957.     6229.     6692.     7609.     8558.\n",
      "  8921.    12964.     6479.     6855.     5399.     6529.     7129.\n",
      "  7295.     7295.     7895.     9095.     8845.    10295.    12945.\n",
      " 10345.     6785.     8916.5    8916.5   11048.    32250.    35550.\n",
      " 36000.     5195.     6095.     6795.     6695.     7395.    10945.\n",
      " 11845.    13645.    15645.     8845.     8495.    10595.    10245.\n",
      " 10795.    11245.    18280.    18344.    25552.    28248.    28176.\n",
      " 31600.    34184.    35056.    40960.    45400.    16503.     5389.\n",
      "  6189.     6669.     7689.     9959.     8499.    12629.    14869.\n",
      " 14489.     6989.     8189.     9279.     9279.     5499.     7099.\n",
      "  6649.     6849.     7349.     7299.     7799.     7499.     7999.\n",
      "  8249.     8949.     9549.    13499.    14399.    13499.    17199.\n",
      " 19699.    18399.    11900.    13200.    12440.    13860.    15580.\n",
      " 16900.    16695.    17075.    16630.    17950.    18150.     5572.\n",
      "  7957.     6229.     6692.     7609.     8921.    12764.    22018.\n",
      " 32528.    34028.    37028.    31400.5    9295.     9895.    11850.\n",
      " 12170.    15040.    15510.    18150.    18620.     5118.     7053.\n",
      "  7603.     7126.     7775.     9960.     9233.    11259.     7463.\n",
      " 10198.     8013.    11694.     5348.     6338.     6488.     6918.\n",
      "  7898.     8778.     6938.     7198.     7898.     7788.     7738.\n",
      "  8358.     9258.     8058.     8238.     9298.     9538.     8449.\n",
      "  9639.     9989.    11199.    11549.    17669.     8948.    10698.\n",
      "  9988.    10898.    11248.    16558.    15998.    15690.    15750.\n",
      "  7775.     7975.     7995.     8195.     8495.     9495.     9995.\n",
      " 11595.     9980.    13295.    13845.    12290.    12940.    13415.\n",
      " 15985.    16515.    18420.    18950.    16845.    19045.    21485.\n",
      " 22470.    22625.   ]\n"
     ],
     "output_type":"stream"
    }
   ],
   "metadata":{
    "datalore":{
     "node_id":"z9qeMvO8u6fuE1N8SNKPJH",
     "type":"CODE",
     "hide_input_from_viewers":true,
     "hide_output_from_viewers":true
    }
   }
  },
  {
   "cell_type":"code",
   "source":[
    "from sklearn.model_selection import train_test_split\n",
    "x_train,x_test,y_train,y_test=train_test_split(x,y,test_size=0.2,random_state=100)"
   ],
   "execution_count":108,
   "outputs":[
    
   ],
   "metadata":{
    "datalore":{
     "node_id":"dfvqpugPm3ayEvdG67qjxX",
     "type":"CODE",
     "hide_input_from_viewers":true,
     "hide_output_from_viewers":true
    }
   }
  },
  {
   "cell_type":"code",
   "source":[
    "from sklearn.ensemble import RandomForestRegressor\n",
    "from sklearn.model_selection import train_test_split\n",
    "x_train,x_test,y_train,y_test=train_test_split(x,y,test_size=0.2,random_state=100)\n",
    "print('training data shape is :{}.'.format(x_train.shape))\n",
    "print('training label shape is :{}.'.format(y_train.shape))\n",
    "print('testing data shape is :{}.'.format(x_test.shape))\n",
    "print('testing label shape is :{}.'.format(y_test.shape))"
   ],
   "execution_count":109,
   "outputs":[
    {
     "name":"stdout",
     "text":[
      "training data shape is :(164, 12).\n",
      "training label shape is :(164,).\n",
      "testing data shape is :(41, 12).\n",
      "testing label shape is :(41,).\n"
     ],
     "output_type":"stream"
    }
   ],
   "metadata":{
    "datalore":{
     "node_id":"kkguqeUmYwzTSHb9MSlKt2",
     "type":"CODE",
     "hide_input_from_viewers":true,
     "hide_output_from_viewers":true
    }
   }
  },
  {
   "cell_type":"code",
   "source":[
    "from sklearn.ensemble import RandomForestRegressor\n",
    "regressor=RandomForestRegressor()\n",
    "regressor.fit(x,y)"
   ],
   "execution_count":119,
   "outputs":[
    {
     "data":{
      "text\/html":[
       "<style>#sk-container-id-3 {color: black;background-color: white;}#sk-container-id-3 pre{padding: 0;}#sk-container-id-3 div.sk-toggleable {background-color: white;}#sk-container-id-3 label.sk-toggleable__label {cursor: pointer;display: block;width: 100%;margin-bottom: 0;padding: 0.3em;box-sizing: border-box;text-align: center;}#sk-container-id-3 label.sk-toggleable__label-arrow:before {content: \"▸\";float: left;margin-right: 0.25em;color: #696969;}#sk-container-id-3 label.sk-toggleable__label-arrow:hover:before {color: black;}#sk-container-id-3 div.sk-estimator:hover label.sk-toggleable__label-arrow:before {color: black;}#sk-container-id-3 div.sk-toggleable__content {max-height: 0;max-width: 0;overflow: hidden;text-align: left;background-color: #f0f8ff;}#sk-container-id-3 div.sk-toggleable__content pre {margin: 0.2em;color: black;border-radius: 0.25em;background-color: #f0f8ff;}#sk-container-id-3 input.sk-toggleable__control:checked~div.sk-toggleable__content {max-height: 200px;max-width: 100%;overflow: auto;}#sk-container-id-3 input.sk-toggleable__control:checked~label.sk-toggleable__label-arrow:before {content: \"▾\";}#sk-container-id-3 div.sk-estimator input.sk-toggleable__control:checked~label.sk-toggleable__label {background-color: #d4ebff;}#sk-container-id-3 div.sk-label input.sk-toggleable__control:checked~label.sk-toggleable__label {background-color: #d4ebff;}#sk-container-id-3 input.sk-hidden--visually {border: 0;clip: rect(1px 1px 1px 1px);clip: rect(1px, 1px, 1px, 1px);height: 1px;margin: -1px;overflow: hidden;padding: 0;position: absolute;width: 1px;}#sk-container-id-3 div.sk-estimator {font-family: monospace;background-color: #f0f8ff;border: 1px dotted black;border-radius: 0.25em;box-sizing: border-box;margin-bottom: 0.5em;}#sk-container-id-3 div.sk-estimator:hover {background-color: #d4ebff;}#sk-container-id-3 div.sk-parallel-item::after {content: \"\";width: 100%;border-bottom: 1px solid gray;flex-grow: 1;}#sk-container-id-3 div.sk-label:hover label.sk-toggleable__label {background-color: #d4ebff;}#sk-container-id-3 div.sk-serial::before {content: \"\";position: absolute;border-left: 1px solid gray;box-sizing: border-box;top: 0;bottom: 0;left: 50%;z-index: 0;}#sk-container-id-3 div.sk-serial {display: flex;flex-direction: column;align-items: center;background-color: white;padding-right: 0.2em;padding-left: 0.2em;position: relative;}#sk-container-id-3 div.sk-item {position: relative;z-index: 1;}#sk-container-id-3 div.sk-parallel {display: flex;align-items: stretch;justify-content: center;background-color: white;position: relative;}#sk-container-id-3 div.sk-item::before, #sk-container-id-3 div.sk-parallel-item::before {content: \"\";position: absolute;border-left: 1px solid gray;box-sizing: border-box;top: 0;bottom: 0;left: 50%;z-index: -1;}#sk-container-id-3 div.sk-parallel-item {display: flex;flex-direction: column;z-index: 1;position: relative;background-color: white;}#sk-container-id-3 div.sk-parallel-item:first-child::after {align-self: flex-end;width: 50%;}#sk-container-id-3 div.sk-parallel-item:last-child::after {align-self: flex-start;width: 50%;}#sk-container-id-3 div.sk-parallel-item:only-child::after {width: 0;}#sk-container-id-3 div.sk-dashed-wrapped {border: 1px dashed gray;margin: 0 0.4em 0.5em 0.4em;box-sizing: border-box;padding-bottom: 0.4em;background-color: white;}#sk-container-id-3 div.sk-label label {font-family: monospace;font-weight: bold;display: inline-block;line-height: 1.2em;}#sk-container-id-3 div.sk-label-container {text-align: center;}#sk-container-id-3 div.sk-container {\/* jupyter's `normalize.less` sets `[hidden] { display: none; }` but bootstrap.min.css set `[hidden] { display: none !important; }` so we also need the `!important` here to be able to override the default hidden behavior on the sphinx rendered scikit-learn.org. See: https:\/\/github.com\/scikit-learn\/scikit-learn\/issues\/21755 *\/display: inline-block !important;position: relative;}#sk-container-id-3 div.sk-text-repr-fallback {display: none;}<\/style><div id=\"sk-container-id-3\" class=\"sk-top-container\"><div class=\"sk-text-repr-fallback\"><pre>RandomForestRegressor()<\/pre><b>In a Jupyter environment, please rerun this cell to show the HTML representation or trust the notebook. <br \/>On GitHub, the HTML representation is unable to render, please try loading this page with nbviewer.org.<\/b><\/div><div class=\"sk-container\" hidden><div class=\"sk-item\"><div class=\"sk-estimator sk-toggleable\"><input class=\"sk-toggleable__control sk-hidden--visually\" id=\"sk-estimator-id-3\" type=\"checkbox\" checked><label for=\"sk-estimator-id-3\" class=\"sk-toggleable__label sk-toggleable__label-arrow\">RandomForestRegressor<\/label><div class=\"sk-toggleable__content\"><pre>RandomForestRegressor()<\/pre><\/div><\/div><\/div><\/div><\/div>"
      ]
     },
     "metadata":{
      
     },
     "output_type":"display_data"
    }
   ],
   "metadata":{
    "datalore":{
     "node_id":"ZUqLDubxmy5JA8qpNY3unW",
     "type":"CODE",
     "hide_input_from_viewers":true,
     "hide_output_from_viewers":true
    }
   }
  },
  {
   "cell_type":"code",
   "source":[
    "regressor.score(x_train,y_train)"
   ],
   "execution_count":113,
   "outputs":[
    {
     "data":{
      "text\/plain":[
       "0.9856617074755313"
      ]
     },
     "metadata":{
      
     },
     "output_type":"display_data"
    }
   ],
   "metadata":{
    "datalore":{
     "node_id":"z3qpyKu1nuCjLDeRRKNHSM",
     "type":"CODE",
     "hide_input_from_viewers":true,
     "hide_output_from_viewers":true
    }
   }
  },
  {
   "cell_type":"code",
   "source":[
    "regressor.score(x_test,y_test)"
   ],
   "execution_count":114,
   "outputs":[
    {
     "data":{
      "text\/plain":[
       "0.9808456712855288"
      ]
     },
     "metadata":{
      
     },
     "output_type":"display_data"
    }
   ],
   "metadata":{
    "datalore":{
     "node_id":"RlYizaAe52zCny9pgo3sqE",
     "type":"CODE",
     "hide_input_from_viewers":true,
     "hide_output_from_viewers":true
    }
   }
  },
  {
   "cell_type":"code",
   "source":[
    "from sklearn.metrics import accuracy_score\n",
    "prediction= regressor. predict(x_test)\n",
    "percentage= regressor.score(x_test,y_test)\n",
    "percentage"
   ],
   "execution_count":115,
   "outputs":[
    {
     "data":{
      "text\/plain":[
       "0.9808456712855288"
      ]
     },
     "metadata":{
      
     },
     "output_type":"display_data"
    }
   ],
   "metadata":{
    "datalore":{
     "node_id":"zSNSTvFyBgNt27vQNZiSaz",
     "type":"CODE",
     "hide_input_from_viewers":true,
     "hide_output_from_viewers":true
    }
   }
  },
  {
   "cell_type":"code",
   "source":[
    " #check the accuracy on the training set\n",
    "print(regressor.score(x_train,y_train))\n",
    "print(f\"Test set:{len(x_test)}\")\n",
    "print(f\"Accuracy={percentage*100}%\")\n",
    "    "
   ],
   "execution_count":116,
   "outputs":[
    {
     "name":"stdout",
     "text":[
      "0.9856617074755313\n",
      "Test set:41\n",
      "Accuracy=98.08456712855288%\n"
     ],
     "output_type":"stream"
    }
   ],
   "metadata":{
    "datalore":{
     "node_id":"2tGK9Xq8yUXkp7I8VyWMa9",
     "type":"CODE",
     "hide_input_from_viewers":true,
     "hide_output_from_viewers":true
    }
   }
  },
  {
   "cell_type":"code",
   "source":[
    "#linear regression loading\n",
    "lin_reg_model=LinearRegression()\n",
    "#fit is used to train our model\n",
    "lin_reg_model.fit(X_train,Y_train)"
   ],
   "execution_count":null,
   "outputs":[
    
   ],
   "metadata":{
    "datalore":{
     "node_id":"SLquaeu62BIC5MvoRbqay2",
     "type":"CODE",
     "hide_input_from_viewers":true,
     "hide_output_from_viewers":true
    }
   }
  }
 ],
 "metadata":{
  "kernelspec":{
   "display_name":"Python",
   "language":"python",
   "name":"python"
  },
  "datalore":{
   "computation_mode":"JUPYTER",
   "package_manager":"pip",
   "base_environment":"default",
   "packages":[
    
   ],
   "report_row_ids":[
    
   ],
   "version":3
  }
 },
 "nbformat":4,
 "nbformat_minor":4
}