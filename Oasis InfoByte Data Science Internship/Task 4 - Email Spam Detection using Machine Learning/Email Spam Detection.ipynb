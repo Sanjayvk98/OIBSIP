{
 "cells":[
  {
   "cell_type":"markdown",
   "source":[
    "# Sheet 2"
   ],
   "attachments":{
    
   },
   "metadata":{
    "datalore":{
     "node_id":"Sheet 2",
     "type":"MD",
     "hide_input_from_viewers":false,
     "hide_output_from_viewers":false,
     "sheet_delimiter":true
    }
   }
  },
  {
   "cell_type":"code",
   "source":[
    "import numpy as np\n",
    "import pandas as pd \n",
    "import seaborn as sns\n",
    "import matplotlib.pyplot as plt\n",
    "#importing necessory libraries"
   ],
   "execution_count":1,
   "outputs":[
    
   ],
   "metadata":{
    "datalore":{
     "node_id":"amHLB8p819zRMPtqo8KpeJ",
     "type":"CODE",
     "hide_input_from_viewers":true,
     "hide_output_from_viewers":true
    }
   }
  },
  {
   "cell_type":"code",
   "source":[
    "df = pd.read_csv(\"spam.csv\") #reading dataset"
   ],
   "execution_count":9,
   "outputs":[
    
   ],
   "metadata":{
    "datalore":{
     "node_id":"tEIhtifaxVxp8ylRmwgS6r",
     "type":"CODE",
     "hide_input_from_viewers":true,
     "hide_output_from_viewers":true
    }
   }
  },
  {
   "cell_type":"code",
   "source":[
    "df.head()"
   ],
   "execution_count":10,
   "outputs":[
    {
     "data":{
      "text\/html":[
       "<div>\n",
       "<style scoped>\n",
       "    .dataframe tbody tr th:only-of-type {\n",
       "        vertical-align: middle;\n",
       "    }\n",
       "\n",
       "    .dataframe tbody tr th {\n",
       "        vertical-align: top;\n",
       "    }\n",
       "\n",
       "    .dataframe thead th {\n",
       "        text-align: right;\n",
       "    }\n",
       "<\/style>\n",
       "<table border=\"1\" class=\"dataframe\">\n",
       "  <thead>\n",
       "    <tr style=\"text-align: right;\">\n",
       "      <th><\/th>\n",
       "      <th>v1<\/th>\n",
       "      <th>v2<\/th>\n",
       "      <th>Unnamed: 2<\/th>\n",
       "      <th>Unnamed: 3<\/th>\n",
       "      <th>Unnamed: 4<\/th>\n",
       "    <\/tr>\n",
       "  <\/thead>\n",
       "  <tbody>\n",
       "    <tr>\n",
       "      <th>0<\/th>\n",
       "      <td>ham<\/td>\n",
       "      <td>Go until jurong point, crazy.. Available only ...<\/td>\n",
       "      <td>NaN<\/td>\n",
       "      <td>NaN<\/td>\n",
       "      <td>NaN<\/td>\n",
       "    <\/tr>\n",
       "    <tr>\n",
       "      <th>1<\/th>\n",
       "      <td>ham<\/td>\n",
       "      <td>Ok lar... Joking wif u oni...<\/td>\n",
       "      <td>NaN<\/td>\n",
       "      <td>NaN<\/td>\n",
       "      <td>NaN<\/td>\n",
       "    <\/tr>\n",
       "    <tr>\n",
       "      <th>2<\/th>\n",
       "      <td>spam<\/td>\n",
       "      <td>Free entry in 2 a wkly comp to win FA Cup fina...<\/td>\n",
       "      <td>NaN<\/td>\n",
       "      <td>NaN<\/td>\n",
       "      <td>NaN<\/td>\n",
       "    <\/tr>\n",
       "    <tr>\n",
       "      <th>3<\/th>\n",
       "      <td>ham<\/td>\n",
       "      <td>U dun say so early hor... U c already then say...<\/td>\n",
       "      <td>NaN<\/td>\n",
       "      <td>NaN<\/td>\n",
       "      <td>NaN<\/td>\n",
       "    <\/tr>\n",
       "    <tr>\n",
       "      <th>4<\/th>\n",
       "      <td>ham<\/td>\n",
       "      <td>Nah I don't think he goes to usf, he lives aro...<\/td>\n",
       "      <td>NaN<\/td>\n",
       "      <td>NaN<\/td>\n",
       "      <td>NaN<\/td>\n",
       "    <\/tr>\n",
       "  <\/tbody>\n",
       "<\/table>\n",
       "<\/div>"
      ]
     },
     "metadata":{
      
     },
     "output_type":"display_data"
    }
   ],
   "metadata":{
    "datalore":{
     "node_id":"qSrnlpKMgAykKRwDpjSM92",
     "type":"CODE",
     "hide_input_from_viewers":true,
     "hide_output_from_viewers":true
    }
   }
  },
  {
   "cell_type":"code",
   "source":[
    "df.tail()"
   ],
   "execution_count":11,
   "outputs":[
    {
     "data":{
      "text\/html":[
       "<div>\n",
       "<style scoped>\n",
       "    .dataframe tbody tr th:only-of-type {\n",
       "        vertical-align: middle;\n",
       "    }\n",
       "\n",
       "    .dataframe tbody tr th {\n",
       "        vertical-align: top;\n",
       "    }\n",
       "\n",
       "    .dataframe thead th {\n",
       "        text-align: right;\n",
       "    }\n",
       "<\/style>\n",
       "<table border=\"1\" class=\"dataframe\">\n",
       "  <thead>\n",
       "    <tr style=\"text-align: right;\">\n",
       "      <th><\/th>\n",
       "      <th>v1<\/th>\n",
       "      <th>v2<\/th>\n",
       "      <th>Unnamed: 2<\/th>\n",
       "      <th>Unnamed: 3<\/th>\n",
       "      <th>Unnamed: 4<\/th>\n",
       "    <\/tr>\n",
       "  <\/thead>\n",
       "  <tbody>\n",
       "    <tr>\n",
       "      <th>5567<\/th>\n",
       "      <td>spam<\/td>\n",
       "      <td>This is the 2nd time we have tried 2 contact u...<\/td>\n",
       "      <td>NaN<\/td>\n",
       "      <td>NaN<\/td>\n",
       "      <td>NaN<\/td>\n",
       "    <\/tr>\n",
       "    <tr>\n",
       "      <th>5568<\/th>\n",
       "      <td>ham<\/td>\n",
       "      <td>Will Ì_ b going to esplanade fr home?<\/td>\n",
       "      <td>NaN<\/td>\n",
       "      <td>NaN<\/td>\n",
       "      <td>NaN<\/td>\n",
       "    <\/tr>\n",
       "    <tr>\n",
       "      <th>5569<\/th>\n",
       "      <td>ham<\/td>\n",
       "      <td>Pity, * was in mood for that. So...any other s...<\/td>\n",
       "      <td>NaN<\/td>\n",
       "      <td>NaN<\/td>\n",
       "      <td>NaN<\/td>\n",
       "    <\/tr>\n",
       "    <tr>\n",
       "      <th>5570<\/th>\n",
       "      <td>ham<\/td>\n",
       "      <td>The guy did some bitching but I acted like i'd...<\/td>\n",
       "      <td>NaN<\/td>\n",
       "      <td>NaN<\/td>\n",
       "      <td>NaN<\/td>\n",
       "    <\/tr>\n",
       "    <tr>\n",
       "      <th>5571<\/th>\n",
       "      <td>ham<\/td>\n",
       "      <td>Rofl. Its true to its name<\/td>\n",
       "      <td>NaN<\/td>\n",
       "      <td>NaN<\/td>\n",
       "      <td>NaN<\/td>\n",
       "    <\/tr>\n",
       "  <\/tbody>\n",
       "<\/table>\n",
       "<\/div>"
      ]
     },
     "metadata":{
      
     },
     "output_type":"display_data"
    }
   ],
   "metadata":{
    "datalore":{
     "node_id":"DoKACTMulQVqjb3bPuWIeY",
     "type":"CODE",
     "hide_input_from_viewers":true,
     "hide_output_from_viewers":true
    }
   }
  },
  {
   "cell_type":"code",
   "source":[
    "df.isnull().sum()"
   ],
   "execution_count":13,
   "outputs":[
    {
     "data":{
      "text\/html":[
       "<pre>v1               0\n",
       "v2               0\n",
       "Unnamed: 2    5522\n",
       "Unnamed: 3    5560\n",
       "Unnamed: 4    5566\n",
       "dtype: int64<\/pre>"
      ]
     },
     "metadata":{
      
     },
     "output_type":"display_data"
    }
   ],
   "metadata":{
    "datalore":{
     "node_id":"BM32umNI66ihXtN5ACvQaY",
     "type":"CODE",
     "hide_input_from_viewers":true,
     "hide_output_from_viewers":true
    }
   }
  },
  {
   "cell_type":"code",
   "source":[
    "df.shape"
   ],
   "execution_count":14,
   "outputs":[
    {
     "data":{
      "text\/plain":[
       "(5572, 5)"
      ]
     },
     "metadata":{
      
     },
     "output_type":"display_data"
    }
   ],
   "metadata":{
    "datalore":{
     "node_id":"DIp5Y2sebToLWxDUXzgHYA",
     "type":"CODE",
     "hide_input_from_viewers":true,
     "hide_output_from_viewers":true
    }
   }
  },
  {
   "cell_type":"code",
   "source":[
    "df.size "
   ],
   "execution_count":15,
   "outputs":[
    {
     "data":{
      "text\/plain":[
       "27860"
      ]
     },
     "metadata":{
      
     },
     "output_type":"display_data"
    }
   ],
   "metadata":{
    "datalore":{
     "node_id":"SYEY6VFUHh3lLfSrk4AFUS",
     "type":"CODE",
     "hide_input_from_viewers":true,
     "hide_output_from_viewers":true
    }
   }
  },
  {
   "cell_type":"code",
   "source":[
    "df.info()"
   ],
   "execution_count":16,
   "outputs":[
    {
     "name":"stdout",
     "text":[
      "<class 'pandas.core.frame.DataFrame'>\n",
      "RangeIndex: 5572 entries, 0 to 5571\n",
      "Data columns (total 5 columns):\n",
      " #   Column      Non-Null Count  Dtype \n",
      "---  ------      --------------  ----- \n",
      " 0   v1          5572 non-null   object\n",
      " 1   v2          5572 non-null   object\n",
      " 2   Unnamed: 2  50 non-null     object\n",
      " 3   Unnamed: 3  12 non-null     object\n",
      " 4   Unnamed: 4  6 non-null      object\n",
      "dtypes: object(5)\n",
      "memory usage: 217.8+ KB\n"
     ],
     "output_type":"stream"
    }
   ],
   "metadata":{
    "datalore":{
     "node_id":"IlNf8duhZLiPMpfmHwcbCX",
     "type":"CODE",
     "hide_input_from_viewers":true,
     "hide_output_from_viewers":true
    }
   }
  },
  {
   "cell_type":"code",
   "source":[
    "df.describe()"
   ],
   "execution_count":17,
   "outputs":[
    {
     "data":{
      "text\/html":[
       "<div>\n",
       "<style scoped>\n",
       "    .dataframe tbody tr th:only-of-type {\n",
       "        vertical-align: middle;\n",
       "    }\n",
       "\n",
       "    .dataframe tbody tr th {\n",
       "        vertical-align: top;\n",
       "    }\n",
       "\n",
       "    .dataframe thead th {\n",
       "        text-align: right;\n",
       "    }\n",
       "<\/style>\n",
       "<table border=\"1\" class=\"dataframe\">\n",
       "  <thead>\n",
       "    <tr style=\"text-align: right;\">\n",
       "      <th><\/th>\n",
       "      <th>v1<\/th>\n",
       "      <th>v2<\/th>\n",
       "      <th>Unnamed: 2<\/th>\n",
       "      <th>Unnamed: 3<\/th>\n",
       "      <th>Unnamed: 4<\/th>\n",
       "    <\/tr>\n",
       "  <\/thead>\n",
       "  <tbody>\n",
       "    <tr>\n",
       "      <th>count<\/th>\n",
       "      <td>5572<\/td>\n",
       "      <td>5572<\/td>\n",
       "      <td>50<\/td>\n",
       "      <td>12<\/td>\n",
       "      <td>6<\/td>\n",
       "    <\/tr>\n",
       "    <tr>\n",
       "      <th>unique<\/th>\n",
       "      <td>2<\/td>\n",
       "      <td>5169<\/td>\n",
       "      <td>43<\/td>\n",
       "      <td>10<\/td>\n",
       "      <td>5<\/td>\n",
       "    <\/tr>\n",
       "    <tr>\n",
       "      <th>top<\/th>\n",
       "      <td>ham<\/td>\n",
       "      <td>Sorry, I'll call later<\/td>\n",
       "      <td>bt not his girlfrnd... G o o d n i g h t . . .@\"<\/td>\n",
       "      <td>MK17 92H. 450Ppw 16\"<\/td>\n",
       "      <td>GNT:-)\"<\/td>\n",
       "    <\/tr>\n",
       "    <tr>\n",
       "      <th>freq<\/th>\n",
       "      <td>4825<\/td>\n",
       "      <td>30<\/td>\n",
       "      <td>3<\/td>\n",
       "      <td>2<\/td>\n",
       "      <td>2<\/td>\n",
       "    <\/tr>\n",
       "  <\/tbody>\n",
       "<\/table>\n",
       "<\/div>"
      ]
     },
     "metadata":{
      
     },
     "output_type":"display_data"
    }
   ],
   "metadata":{
    "datalore":{
     "node_id":"NDKlO1wz0hZas1YNJOplac",
     "type":"CODE",
     "hide_input_from_viewers":true,
     "hide_output_from_viewers":true
    }
   }
  },
  {
   "cell_type":"code",
   "source":[
    "df.drop(columns=['Unnamed: 2','Unnamed: 3','Unnamed: 4'],inplace=True)\n",
    "df"
   ],
   "execution_count":18,
   "outputs":[
    {
     "data":{
      "text\/html":[
       "<div>\n",
       "<style scoped>\n",
       "    .dataframe tbody tr th:only-of-type {\n",
       "        vertical-align: middle;\n",
       "    }\n",
       "\n",
       "    .dataframe tbody tr th {\n",
       "        vertical-align: top;\n",
       "    }\n",
       "\n",
       "    .dataframe thead th {\n",
       "        text-align: right;\n",
       "    }\n",
       "<\/style>\n",
       "<table border=\"1\" class=\"dataframe\">\n",
       "  <thead>\n",
       "    <tr style=\"text-align: right;\">\n",
       "      <th><\/th>\n",
       "      <th>v1<\/th>\n",
       "      <th>v2<\/th>\n",
       "    <\/tr>\n",
       "  <\/thead>\n",
       "  <tbody>\n",
       "    <tr>\n",
       "      <th>0<\/th>\n",
       "      <td>ham<\/td>\n",
       "      <td>Go until jurong point, crazy.. Available only ...<\/td>\n",
       "    <\/tr>\n",
       "    <tr>\n",
       "      <th>1<\/th>\n",
       "      <td>ham<\/td>\n",
       "      <td>Ok lar... Joking wif u oni...<\/td>\n",
       "    <\/tr>\n",
       "    <tr>\n",
       "      <th>2<\/th>\n",
       "      <td>spam<\/td>\n",
       "      <td>Free entry in 2 a wkly comp to win FA Cup fina...<\/td>\n",
       "    <\/tr>\n",
       "    <tr>\n",
       "      <th>3<\/th>\n",
       "      <td>ham<\/td>\n",
       "      <td>U dun say so early hor... U c already then say...<\/td>\n",
       "    <\/tr>\n",
       "    <tr>\n",
       "      <th>4<\/th>\n",
       "      <td>ham<\/td>\n",
       "      <td>Nah I don't think he goes to usf, he lives aro...<\/td>\n",
       "    <\/tr>\n",
       "    <tr>\n",
       "      <th>...<\/th>\n",
       "      <td>...<\/td>\n",
       "      <td>...<\/td>\n",
       "    <\/tr>\n",
       "    <tr>\n",
       "      <th>5567<\/th>\n",
       "      <td>spam<\/td>\n",
       "      <td>This is the 2nd time we have tried 2 contact u...<\/td>\n",
       "    <\/tr>\n",
       "    <tr>\n",
       "      <th>5568<\/th>\n",
       "      <td>ham<\/td>\n",
       "      <td>Will Ì_ b going to esplanade fr home?<\/td>\n",
       "    <\/tr>\n",
       "    <tr>\n",
       "      <th>5569<\/th>\n",
       "      <td>ham<\/td>\n",
       "      <td>Pity, * was in mood for that. So...any other s...<\/td>\n",
       "    <\/tr>\n",
       "    <tr>\n",
       "      <th>5570<\/th>\n",
       "      <td>ham<\/td>\n",
       "      <td>The guy did some bitching but I acted like i'd...<\/td>\n",
       "    <\/tr>\n",
       "    <tr>\n",
       "      <th>5571<\/th>\n",
       "      <td>ham<\/td>\n",
       "      <td>Rofl. Its true to its name<\/td>\n",
       "    <\/tr>\n",
       "  <\/tbody>\n",
       "<\/table>\n",
       "<p>5572 rows × 2 columns<\/p>\n",
       "<\/div>"
      ]
     },
     "metadata":{
      
     },
     "output_type":"display_data"
    }
   ],
   "metadata":{
    "datalore":{
     "node_id":"2z7VAIbkcNYffHxYd0amL3",
     "type":"CODE",
     "hide_input_from_viewers":true,
     "hide_output_from_viewers":true
    }
   }
  },
  {
   "cell_type":"code",
   "source":[
    "df=df.rename(columns={'v1':'Target','v2':'Message'})"
   ],
   "execution_count":20,
   "outputs":[
    
   ],
   "metadata":{
    "datalore":{
     "node_id":"Ia2w0Szjk3dpZlBpIThGgY",
     "type":"CODE",
     "hide_input_from_viewers":true,
     "hide_output_from_viewers":true
    }
   }
  },
  {
   "cell_type":"code",
   "source":[
    "df.isnull().sum()"
   ],
   "execution_count":21,
   "outputs":[
    {
     "data":{
      "text\/html":[
       "<pre>Target     0\n",
       "Message    0\n",
       "dtype: int64<\/pre>"
      ]
     },
     "metadata":{
      
     },
     "output_type":"display_data"
    }
   ],
   "metadata":{
    "datalore":{
     "node_id":"YC614aTG1nZjvhIrSz0Sn5",
     "type":"CODE",
     "hide_input_from_viewers":true,
     "hide_output_from_viewers":true
    }
   }
  },
  {
   "cell_type":"code",
   "source":[
    "df.duplicated().sum()"
   ],
   "execution_count":22,
   "outputs":[
    {
     "data":{
      "text\/plain":[
       "403"
      ]
     },
     "metadata":{
      
     },
     "output_type":"display_data"
    }
   ],
   "metadata":{
    "datalore":{
     "node_id":"eSuLTDbGpEjIBqZjajYDBC",
     "type":"CODE",
     "hide_input_from_viewers":true,
     "hide_output_from_viewers":true
    }
   }
  },
  {
   "cell_type":"code",
   "source":[
    "df.drop_duplicates(keep='first',inplace=True)\n",
    "df.duplicated().sum()"
   ],
   "execution_count":23,
   "outputs":[
    {
     "data":{
      "text\/plain":[
       "0"
      ]
     },
     "metadata":{
      
     },
     "output_type":"display_data"
    }
   ],
   "metadata":{
    "datalore":{
     "node_id":"qtLLZ0IWRl4oOTxcvcPuwx",
     "type":"CODE",
     "hide_input_from_viewers":true,
     "hide_output_from_viewers":true
    }
   }
  },
  {
   "cell_type":"code",
   "source":[
    "df.size"
   ],
   "execution_count":24,
   "outputs":[
    {
     "data":{
      "text\/plain":[
       "10338"
      ]
     },
     "metadata":{
      
     },
     "output_type":"display_data"
    }
   ],
   "metadata":{
    "datalore":{
     "node_id":"wFsXBSWaw5boD4BWav3Ys8",
     "type":"CODE",
     "hide_input_from_viewers":true,
     "hide_output_from_viewers":true
    }
   }
  },
  {
   "cell_type":"code",
   "source":[
    "from sklearn.preprocessing import LabelEncoder\n",
    "encoder=LabelEncoder()\n",
    "df['Target']=encoder.fit_transform(df['Target'])\n",
    "print(df['Target'])"
   ],
   "execution_count":39,
   "outputs":[
    {
     "name":"stdout",
     "text":[
      "0       0\n",
      "1       0\n",
      "2       1\n",
      "3       0\n",
      "4       0\n",
      "       ..\n",
      "5567    1\n",
      "5568    0\n",
      "5569    0\n",
      "5570    0\n",
      "5571    0\n",
      "Name: Target, Length: 5169, dtype: int64\n"
     ],
     "output_type":"stream"
    }
   ],
   "metadata":{
    "datalore":{
     "node_id":"EbQ5XogpejW9H2M8sakvDE",
     "type":"CODE",
     "hide_input_from_viewers":true,
     "hide_output_from_viewers":true
    }
   }
  },
  {
   "cell_type":"code",
   "source":[
    "print(df.head())"
   ],
   "execution_count":38,
   "outputs":[
    {
     "name":"stdout",
     "text":[
      "   Target                                            Message\n",
      "0       0  Go until jurong point, crazy.. Available only ...\n",
      "1       0                      Ok lar... Joking wif u oni...\n",
      "2       1  Free entry in 2 a wkly comp to win FA Cup fina...\n",
      "3       0  U dun say so early hor... U c already then say...\n",
      "4       0  Nah I don't think he goes to usf, he lives aro...\n"
     ],
     "output_type":"stream"
    }
   ],
   "metadata":{
    "datalore":{
     "node_id":"1BP0x5PsmLIZMVXamdVh7n",
     "type":"CODE",
     "hide_input_from_viewers":true,
     "hide_output_from_viewers":true
    }
   }
  },
  {
   "cell_type":"code",
   "source":[
    "plt.pie(df['Target'].value_counts(), labels = ['ham', 'spam'], autopct = \"%0.2f\")\n",
    "plt.show()"
   ],
   "execution_count":27,
   "outputs":[
    {
     "data":{
      "image\/png":"[encoded data removed]"
     },
     "metadata":{
      "image\/png":{
       
      }
     },
     "output_type":"display_data"
    }
   ],
   "metadata":{
    "datalore":{
     "node_id":"YSpis6CD9jMeUCoq1tCcVc",
     "type":"CODE",
     "hide_input_from_viewers":true,
     "hide_output_from_viewers":true
    }
   }
  },
  {
   "cell_type":"code",
   "source":[
    "x=df['Message']\n",
    "y=df['Target']\n",
    "print(x)"
   ],
   "execution_count":28,
   "outputs":[
    {
     "name":"stdout",
     "text":[
      "0       Go until jurong point, crazy.. Available only ...\n",
      "1                           Ok lar... Joking wif u oni...\n",
      "2       Free entry in 2 a wkly comp to win FA Cup fina...\n",
      "3       U dun say so early hor... U c already then say...\n",
      "4       Nah I don't think he goes to usf, he lives aro...\n",
      "                              ...                        \n",
      "5567    This is the 2nd time we have tried 2 contact u...\n",
      "5568                Will Ì_ b going to esplanade fr home?\n",
      "5569    Pity, * was in mood for that. So...any other s...\n",
      "5570    The guy did some bitching but I acted like i'd...\n",
      "5571                           Rofl. Its true to its name\n",
      "Name: Message, Length: 5169, dtype: object\n"
     ],
     "output_type":"stream"
    }
   ],
   "metadata":{
    "datalore":{
     "node_id":"A26hQi09EkV49yZXsNxQLn",
     "type":"CODE",
     "hide_input_from_viewers":true,
     "hide_output_from_viewers":true
    }
   }
  },
  {
   "cell_type":"code",
   "source":[
    "print(y)"
   ],
   "execution_count":35,
   "outputs":[
    {
     "name":"stdout",
     "text":[
      "0       0\n",
      "1       0\n",
      "2       1\n",
      "3       0\n",
      "4       0\n",
      "       ..\n",
      "5567    1\n",
      "5568    0\n",
      "5569    0\n",
      "5570    0\n",
      "5571    0\n",
      "Name: Target, Length: 5169, dtype: int64\n"
     ],
     "output_type":"stream"
    }
   ],
   "metadata":{
    "datalore":{
     "node_id":"mLhLF5RtTZOLo6MM8cFPVn",
     "type":"CODE",
     "hide_input_from_viewers":true,
     "hide_output_from_viewers":true
    }
   }
  },
  {
   "cell_type":"code",
   "source":[
    "from sklearn.model_selection import train_test_split\n",
    "x_train, x_test, y_train, y_test = train_test_split(x, y, test_size=0.2, random_state=3)  #splitting data into train and test\n",
    "from sklearn.feature_extraction.text import  CountVectorizer\n",
    "from sklearn import svm\n",
    "cv=CountVectorizer()\n",
    "x_train_cv = cv.fit_transform(x_train)\n",
    "x_test_cv = cv.transform(x_test)\n",
    "print(x_train_cv)"
   ],
   "execution_count":40,
   "outputs":[
    {
     "name":"stdout",
     "text":[
      "  (0, 1879)\t1\n",
      "  (0, 1170)\t1\n",
      "  (0, 6840)\t1\n",
      "  (0, 6610)\t1\n",
      "  (0, 2779)\t1\n",
      "  (1, 1939)\t1\n",
      "  (1, 4467)\t1\n",
      "  (1, 453)\t1\n",
      "  (1, 7176)\t1\n",
      "  (1, 7594)\t1\n",
      "  (1, 1577)\t1\n",
      "  (1, 203)\t1\n",
      "  (1, 4768)\t1\n",
      "  (1, 7175)\t1\n",
      "  (1, 7390)\t1\n",
      "  (1, 7590)\t1\n",
      "  (1, 4309)\t1\n",
      "  (1, 5157)\t1\n",
      "  (1, 3732)\t1\n",
      "  (1, 3015)\t1\n",
      "  (1, 2333)\t1\n",
      "  (1, 5210)\t1\n",
      "  (1, 4577)\t1\n",
      "  (1, 4731)\t1\n",
      "  (1, 5615)\t1\n",
      "  :\t:\n",
      "  (4134, 3290)\t2\n",
      "  (4134, 4817)\t1\n",
      "  (4134, 1546)\t1\n",
      "  (4134, 4195)\t1\n",
      "  (4134, 891)\t1\n",
      "  (4134, 1092)\t1\n",
      "  (4134, 1261)\t1\n",
      "  (4134, 7302)\t1\n",
      "  (4134, 6595)\t1\n",
      "  (4134, 1624)\t1\n",
      "  (4134, 1977)\t1\n",
      "  (4134, 7438)\t1\n",
      "  (4134, 6189)\t1\n",
      "  (4134, 6815)\t1\n",
      "  (4134, 2357)\t1\n",
      "  (4134, 4093)\t1\n",
      "  (4134, 6583)\t1\n",
      "  (4134, 5934)\t1\n",
      "  (4134, 1661)\t1\n",
      "  (4134, 5153)\t1\n",
      "  (4134, 6292)\t1\n",
      "  (4134, 3707)\t1\n",
      "  (4134, 6172)\t1\n",
      "  (4134, 3624)\t1\n",
      "  (4134, 4785)\t1\n"
     ],
     "output_type":"stream"
    }
   ],
   "metadata":{
    "datalore":{
     "node_id":"tEhhmQ9RsFaUOxcqLe3wgc",
     "type":"CODE",
     "hide_input_from_viewers":true,
     "hide_output_from_viewers":true
    }
   }
  },
  {
   "cell_type":"code",
   "source":[
    "from sklearn.linear_model import LogisticRegression\n",
    "lr=LogisticRegression() #creating model\n",
    "lr.fit(x_train_cv,y_train)\n",
    "prediction_train=lr.predict(x_train_cv)\n",
    "from sklearn.metrics import accuracy_score\n",
    "print(accuracy_score(y_train, prediction_train)*100)"
   ],
   "execution_count":41,
   "outputs":[
    {
     "name":"stdout",
     "text":[
      "99.75816203143893\n"
     ],
     "output_type":"stream"
    }
   ],
   "metadata":{
    "datalore":{
     "node_id":"VN7dDZtiO0M930sapInmP1",
     "type":"CODE",
     "hide_input_from_viewers":true,
     "hide_output_from_viewers":true
    }
   }
  },
  {
   "cell_type":"code",
   "source":[
    "prediction_test = lr.predict(x_test_cv)\n",
    "from sklearn.metrics import accuracy_score\n",
    "print(accuracy_score(y_test, prediction_test)*100)"
   ],
   "execution_count":43,
   "outputs":[
    {
     "name":"stdout",
     "text":[
      "97.58220502901354\n"
     ],
     "output_type":"stream"
    }
   ],
   "metadata":{
    "datalore":{
     "node_id":"1DqXLheU4GrtuWyCSGpyxJ",
     "type":"CODE",
     "hide_input_from_viewers":true,
     "hide_output_from_viewers":true
    }
   }
  }
 ],
 "metadata":{
  "kernelspec":{
   "display_name":"Python",
   "language":"python",
   "name":"python"
  },
  "datalore":{
   "computation_mode":"JUPYTER",
   "package_manager":"pip",
   "base_environment":"default",
   "packages":[
    
   ],
   "report_row_ids":[
    
   ],
   "version":3
  }
 },
 "nbformat":4,
 "nbformat_minor":4
}