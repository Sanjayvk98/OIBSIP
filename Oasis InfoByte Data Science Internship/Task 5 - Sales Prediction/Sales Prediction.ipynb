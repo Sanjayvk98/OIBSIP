{
 "cells":[
  {
   "cell_type":"markdown",
   "source":[
    "# Sheet 2"
   ],
   "attachments":{
    
   },
   "metadata":{
    "datalore":{
     "node_id":"Sheet 2",
     "type":"MD",
     "hide_input_from_viewers":false,
     "hide_output_from_viewers":false,
     "sheet_delimiter":true
    }
   }
  },
  {
   "cell_type":"code",
   "source":[
    "import numpy as np\n",
    "import pandas as pd \n",
    "import seaborn as sns\n",
    "import matplotlib.pyplot as plt\n",
    "import warnings\n",
    "warnings.filterwarnings('ignore')\n",
    "#importing necessory liraries"
   ],
   "execution_count":1,
   "outputs":[
    
   ],
   "metadata":{
    "datalore":{
     "node_id":"0ttsoyOSM7p45ejpLcyU0Y",
     "type":"CODE",
     "hide_input_from_viewers":true,
     "hide_output_from_viewers":true
    }
   }
  },
  {
   "cell_type":"code",
   "source":[
    "df = pd.read_csv(\"Advertising.csv\")  "
   ],
   "execution_count":2,
   "outputs":[
    
   ],
   "metadata":{
    "datalore":{
     "node_id":"aRFTE0tyw59PuGXvKPT9oc",
     "type":"CODE",
     "hide_input_from_viewers":true,
     "hide_output_from_viewers":true
    }
   }
  },
  {
   "cell_type":"code",
   "source":[
    "df.head()"
   ],
   "execution_count":3,
   "outputs":[
    {
     "data":{
      "text\/html":[
       "<div>\n",
       "<style scoped>\n",
       "    .dataframe tbody tr th:only-of-type {\n",
       "        vertical-align: middle;\n",
       "    }\n",
       "\n",
       "    .dataframe tbody tr th {\n",
       "        vertical-align: top;\n",
       "    }\n",
       "\n",
       "    .dataframe thead th {\n",
       "        text-align: right;\n",
       "    }\n",
       "<\/style>\n",
       "<table border=\"1\" class=\"dataframe\">\n",
       "  <thead>\n",
       "    <tr style=\"text-align: right;\">\n",
       "      <th><\/th>\n",
       "      <th>Unnamed: 0<\/th>\n",
       "      <th>TV<\/th>\n",
       "      <th>Radio<\/th>\n",
       "      <th>Newspaper<\/th>\n",
       "      <th>Sales<\/th>\n",
       "    <\/tr>\n",
       "  <\/thead>\n",
       "  <tbody>\n",
       "    <tr>\n",
       "      <th>0<\/th>\n",
       "      <td>1<\/td>\n",
       "      <td>230.1<\/td>\n",
       "      <td>37.8<\/td>\n",
       "      <td>69.2<\/td>\n",
       "      <td>22.1<\/td>\n",
       "    <\/tr>\n",
       "    <tr>\n",
       "      <th>1<\/th>\n",
       "      <td>2<\/td>\n",
       "      <td>44.5<\/td>\n",
       "      <td>39.3<\/td>\n",
       "      <td>45.1<\/td>\n",
       "      <td>10.4<\/td>\n",
       "    <\/tr>\n",
       "    <tr>\n",
       "      <th>2<\/th>\n",
       "      <td>3<\/td>\n",
       "      <td>17.2<\/td>\n",
       "      <td>45.9<\/td>\n",
       "      <td>69.3<\/td>\n",
       "      <td>9.3<\/td>\n",
       "    <\/tr>\n",
       "    <tr>\n",
       "      <th>3<\/th>\n",
       "      <td>4<\/td>\n",
       "      <td>151.5<\/td>\n",
       "      <td>41.3<\/td>\n",
       "      <td>58.5<\/td>\n",
       "      <td>18.5<\/td>\n",
       "    <\/tr>\n",
       "    <tr>\n",
       "      <th>4<\/th>\n",
       "      <td>5<\/td>\n",
       "      <td>180.8<\/td>\n",
       "      <td>10.8<\/td>\n",
       "      <td>58.4<\/td>\n",
       "      <td>12.9<\/td>\n",
       "    <\/tr>\n",
       "  <\/tbody>\n",
       "<\/table>\n",
       "<\/div>"
      ]
     },
     "metadata":{
      
     },
     "output_type":"display_data"
    }
   ],
   "metadata":{
    "datalore":{
     "node_id":"5IOKOwvq59pziKmKuI68Cf",
     "type":"CODE",
     "hide_input_from_viewers":true,
     "hide_output_from_viewers":true
    }
   }
  },
  {
   "cell_type":"code",
   "source":[
    "\n",
    "df.shape"
   ],
   "execution_count":4,
   "outputs":[
    {
     "data":{
      "text\/plain":[
       "(200, 5)"
      ]
     },
     "metadata":{
      
     },
     "output_type":"display_data"
    }
   ],
   "metadata":{
    "datalore":{
     "node_id":"AXJP3KgKiCRqvM1oOxphDe",
     "type":"CODE",
     "hide_input_from_viewers":true,
     "hide_output_from_viewers":true
    }
   }
  },
  {
   "cell_type":"code",
   "source":[
    "df.columns.values.tolist()"
   ],
   "execution_count":5,
   "outputs":[
    {
     "data":{
      "text\/plain":[
       "['Unnamed: 0', 'TV', 'Radio', 'Newspaper', 'Sales']"
      ]
     },
     "metadata":{
      
     },
     "output_type":"display_data"
    }
   ],
   "metadata":{
    "datalore":{
     "node_id":"OeZ8o69u29wiNuNuel424X",
     "type":"CODE",
     "hide_input_from_viewers":true,
     "hide_output_from_viewers":true
    }
   }
  },
  {
   "cell_type":"code",
   "source":[
    "df.info()"
   ],
   "execution_count":6,
   "outputs":[
    {
     "name":"stdout",
     "text":[
      "<class 'pandas.core.frame.DataFrame'>\n",
      "RangeIndex: 200 entries, 0 to 199\n",
      "Data columns (total 5 columns):\n",
      " #   Column      Non-Null Count  Dtype  \n",
      "---  ------      --------------  -----  \n",
      " 0   Unnamed: 0  200 non-null    int64  \n",
      " 1   TV          200 non-null    float64\n",
      " 2   Radio       200 non-null    float64\n",
      " 3   Newspaper   200 non-null    float64\n",
      " 4   Sales       200 non-null    float64\n",
      "dtypes: float64(4), int64(1)\n",
      "memory usage: 7.9 KB\n"
     ],
     "output_type":"stream"
    }
   ],
   "metadata":{
    "datalore":{
     "node_id":"aV2WHYPYGTfSRqxPDixI6j",
     "type":"CODE",
     "hide_input_from_viewers":true,
     "hide_output_from_viewers":true
    }
   }
  },
  {
   "cell_type":"code",
   "source":[
    "df.describe()     "
   ],
   "execution_count":7,
   "outputs":[
    {
     "data":{
      "text\/html":[
       "<div>\n",
       "<style scoped>\n",
       "    .dataframe tbody tr th:only-of-type {\n",
       "        vertical-align: middle;\n",
       "    }\n",
       "\n",
       "    .dataframe tbody tr th {\n",
       "        vertical-align: top;\n",
       "    }\n",
       "\n",
       "    .dataframe thead th {\n",
       "        text-align: right;\n",
       "    }\n",
       "<\/style>\n",
       "<table border=\"1\" class=\"dataframe\">\n",
       "  <thead>\n",
       "    <tr style=\"text-align: right;\">\n",
       "      <th><\/th>\n",
       "      <th>Unnamed: 0<\/th>\n",
       "      <th>TV<\/th>\n",
       "      <th>Radio<\/th>\n",
       "      <th>Newspaper<\/th>\n",
       "      <th>Sales<\/th>\n",
       "    <\/tr>\n",
       "  <\/thead>\n",
       "  <tbody>\n",
       "    <tr>\n",
       "      <th>count<\/th>\n",
       "      <td>200.000000<\/td>\n",
       "      <td>200.000000<\/td>\n",
       "      <td>200.000000<\/td>\n",
       "      <td>200.000000<\/td>\n",
       "      <td>200.000000<\/td>\n",
       "    <\/tr>\n",
       "    <tr>\n",
       "      <th>mean<\/th>\n",
       "      <td>100.500000<\/td>\n",
       "      <td>147.042500<\/td>\n",
       "      <td>23.264000<\/td>\n",
       "      <td>30.554000<\/td>\n",
       "      <td>14.022500<\/td>\n",
       "    <\/tr>\n",
       "    <tr>\n",
       "      <th>std<\/th>\n",
       "      <td>57.879185<\/td>\n",
       "      <td>85.854236<\/td>\n",
       "      <td>14.846809<\/td>\n",
       "      <td>21.778621<\/td>\n",
       "      <td>5.217457<\/td>\n",
       "    <\/tr>\n",
       "    <tr>\n",
       "      <th>min<\/th>\n",
       "      <td>1.000000<\/td>\n",
       "      <td>0.700000<\/td>\n",
       "      <td>0.000000<\/td>\n",
       "      <td>0.300000<\/td>\n",
       "      <td>1.600000<\/td>\n",
       "    <\/tr>\n",
       "    <tr>\n",
       "      <th>25%<\/th>\n",
       "      <td>50.750000<\/td>\n",
       "      <td>74.375000<\/td>\n",
       "      <td>9.975000<\/td>\n",
       "      <td>12.750000<\/td>\n",
       "      <td>10.375000<\/td>\n",
       "    <\/tr>\n",
       "    <tr>\n",
       "      <th>50%<\/th>\n",
       "      <td>100.500000<\/td>\n",
       "      <td>149.750000<\/td>\n",
       "      <td>22.900000<\/td>\n",
       "      <td>25.750000<\/td>\n",
       "      <td>12.900000<\/td>\n",
       "    <\/tr>\n",
       "    <tr>\n",
       "      <th>75%<\/th>\n",
       "      <td>150.250000<\/td>\n",
       "      <td>218.825000<\/td>\n",
       "      <td>36.525000<\/td>\n",
       "      <td>45.100000<\/td>\n",
       "      <td>17.400000<\/td>\n",
       "    <\/tr>\n",
       "    <tr>\n",
       "      <th>max<\/th>\n",
       "      <td>200.000000<\/td>\n",
       "      <td>296.400000<\/td>\n",
       "      <td>49.600000<\/td>\n",
       "      <td>114.000000<\/td>\n",
       "      <td>27.000000<\/td>\n",
       "    <\/tr>\n",
       "  <\/tbody>\n",
       "<\/table>\n",
       "<\/div>"
      ]
     },
     "metadata":{
      
     },
     "output_type":"display_data"
    }
   ],
   "metadata":{
    "datalore":{
     "node_id":"PHvHGBc3FdFeaP97UNrwB2",
     "type":"CODE",
     "hide_input_from_viewers":true,
     "hide_output_from_viewers":true
    }
   }
  },
  {
   "cell_type":"code",
   "source":[
    "import matplotlib.pyplot as plt\n",
    "import seaborn as sns\n",
    "\n",
    "fig, axs = plt.subplots(3, figsize = (10,10))\n",
    "plt1 = sns.boxplot(df['TV'], ax = axs[0])\n",
    "plt2  = sns.boxplot(df['Newspaper'], ax = axs[1])\n",
    "plt3 = sns.boxplot(df['Radio'], ax = axs[2])\n",
    "plt.tight_layout()"
   ],
   "execution_count":39,
   "outputs":[
    {
     "data":{
      "image\/png":"[encoded data removed]"
     },
     "metadata":{
      "image\/png":{
       
      }
     },
     "output_type":"display_data"
    }
   ],
   "metadata":{
    "datalore":{
     "node_id":"kz0ORbzYtb6CMKZ8OkAOUq",
     "type":"CODE",
     "hide_input_from_viewers":true,
     "hide_output_from_viewers":true
    }
   }
  },
  {
   "cell_type":"code",
   "source":[
    "sns.distplot(df['Newspaper'])"
   ],
   "execution_count":14,
   "outputs":[
    {
     "data":{
      "text\/plain":[
       "<Axes: xlabel='Newspaper', ylabel='Density'>"
      ]
     },
     "metadata":{
      
     },
     "output_type":"display_data"
    },
    {
     "data":{
      "image\/png":"[encoded data removed]"
     },
     "metadata":{
      "image\/png":{
       
      }
     },
     "output_type":"display_data"
    }
   ],
   "metadata":{
    "datalore":{
     "node_id":"qIBpvQIsHBuEWuRY4cne84",
     "type":"CODE",
     "hide_input_from_viewers":true,
     "hide_output_from_viewers":true
    }
   }
  },
  {
   "cell_type":"code",
   "source":[
    "iqr = df.Newspaper.quantile(0.75) - df.Newspaper.quantile(0.25)\n",
    "     \n",
    "\n",
    "lower_bridge = df[\"Newspaper\"].quantile(0.25) - (iqr*1.5)\n",
    "upper_bridge = df[\"Newspaper\"].quantile(0.75) + (iqr*1.5)\n",
    "print(lower_bridge)\n",
    "print(upper_bridge)"
   ],
   "execution_count":16,
   "outputs":[
    {
     "name":"stdout",
     "text":[
      "-35.775000000000006\n",
      "93.625\n"
     ],
     "output_type":"stream"
    }
   ],
   "metadata":{
    "datalore":{
     "node_id":"xTJj7DntJYgtSsjpkTzypm",
     "type":"CODE",
     "hide_input_from_viewers":true,
     "hide_output_from_viewers":true
    }
   }
  },
  {
   "cell_type":"code",
   "source":[
    "data = df.copy()"
   ],
   "execution_count":17,
   "outputs":[
    
   ],
   "metadata":{
    "datalore":{
     "node_id":"OfGfGyOGgwwFfzkC6dosms",
     "type":"CODE",
     "hide_input_from_viewers":true,
     "hide_output_from_viewers":true
    }
   }
  },
  {
   "cell_type":"code",
   "source":[
    "data.loc[data['Newspaper']>=93, 'Newspaper']=93"
   ],
   "execution_count":18,
   "outputs":[
    
   ],
   "metadata":{
    "datalore":{
     "node_id":"yVjW6zkfAxFdF8jAdtR0E6",
     "type":"CODE",
     "hide_input_from_viewers":true,
     "hide_output_from_viewers":true
    }
   }
  },
  {
   "cell_type":"code",
   "source":[
    "sns.boxplot(data['Newspaper'])"
   ],
   "execution_count":19,
   "outputs":[
    {
     "data":{
      "text\/plain":[
       "<Axes: >"
      ]
     },
     "metadata":{
      
     },
     "output_type":"display_data"
    },
    {
     "data":{
      "image\/png":"[encoded data removed]"
     },
     "metadata":{
      "image\/png":{
       
      }
     },
     "output_type":"display_data"
    }
   ],
   "metadata":{
    "datalore":{
     "node_id":"67EgnaUrIc31q1WrFmCrIX",
     "type":"CODE",
     "hide_input_from_viewers":true,
     "hide_output_from_viewers":true
    }
   }
  },
  {
   "cell_type":"code",
   "source":[
    "sns.boxplot(data['Sales'])"
   ],
   "execution_count":24,
   "outputs":[
    {
     "data":{
      "text\/plain":[
       "<Axes: >"
      ]
     },
     "metadata":{
      
     },
     "output_type":"display_data"
    },
    {
     "data":{
      "image\/png":"[encoded data removed]"
     },
     "metadata":{
      "image\/png":{
       
      }
     },
     "output_type":"display_data"
    }
   ],
   "metadata":{
    "datalore":{
     "node_id":"vZR0KrWKUY5lpoMW78dNpz",
     "type":"CODE",
     "hide_input_from_viewers":true,
     "hide_output_from_viewers":true
    }
   }
  },
  {
   "cell_type":"code",
   "source":[
    "sns.pairplot(data, x_vars=['TV', 'Newspaper', 'Radio'],\n",
    "            y_vars='Sales', height=4, aspect=1, kind='scatter')\n",
    "plt.show()"
   ],
   "execution_count":21,
   "outputs":[
    {
     "data":{
      "image\/png":"[encoded data removed]"
     },
     "metadata":{
      "image\/png":{
       
      }
     },
     "output_type":"display_data"
    }
   ],
   "metadata":{
    "datalore":{
     "node_id":"WMbpsAixLSFl1YvcWIxIcO",
     "type":"CODE",
     "hide_input_from_viewers":true,
     "hide_output_from_viewers":true
    }
   }
  },
  {
   "cell_type":"code",
   "source":[
    "sns.heatmap(data.corr(), cmap=\"Greens\", annot = True)\n",
    "plt.show()"
   ],
   "execution_count":30,
   "outputs":[
    {
     "data":{
      "image\/png":"[encoded data removed]"
     },
     "metadata":{
      "image\/png":{
       
      }
     },
     "output_type":"display_data"
    }
   ],
   "metadata":{
    "datalore":{
     "node_id":"axWVpWAZuO67Jm9Lr4Wcos",
     "type":"CODE",
     "hide_input_from_viewers":true,
     "hide_output_from_viewers":true
    }
   }
  },
  {
   "cell_type":"code",
   "source":[
    "important_features = list(df.corr()['Sales'][(df.corr()['Sales']>+0.5)|(df.corr()['Sales']<-0.5)].index)     \n",
    "\n",
    "print(important_features)"
   ],
   "execution_count":26,
   "outputs":[
    {
     "name":"stdout",
     "text":[
      "['TV', 'Radio', 'Sales']\n"
     ],
     "output_type":"stream"
    }
   ],
   "metadata":{
    "datalore":{
     "node_id":"LT202aPS92o69NbblU7vbL",
     "type":"CODE",
     "hide_input_from_viewers":true,
     "hide_output_from_viewers":true
    }
   }
  },
  {
   "cell_type":"code",
   "source":[
    "X = data['TV']\n",
    "y = data['Sales']\n",
    "     \n",
    "\n",
    "X = X.values.reshape(-1,1)\n",
    "     \n",
    "\n",
    "print(X)"
   ],
   "execution_count":28,
   "outputs":[
    {
     "name":"stdout",
     "text":[
      "[[230.1]\n",
      " [ 44.5]\n",
      " [ 17.2]\n",
      " [151.5]\n",
      " [180.8]\n",
      " [  8.7]\n",
      " [ 57.5]\n",
      " [120.2]\n",
      " [  8.6]\n",
      " [199.8]\n",
      " [ 66.1]\n",
      " [214.7]\n",
      " [ 23.8]\n",
      " [ 97.5]\n",
      " [204.1]\n",
      " [195.4]\n",
      " [ 67.8]\n",
      " [281.4]\n",
      " [ 69.2]\n",
      " [147.3]\n",
      " [218.4]\n",
      " [237.4]\n",
      " [ 13.2]\n",
      " [228.3]\n",
      " [ 62.3]\n",
      " [262.9]\n",
      " [142.9]\n",
      " [240.1]\n",
      " [248.8]\n",
      " [ 70.6]\n",
      " [292.9]\n",
      " [112.9]\n",
      " [ 97.2]\n",
      " [265.6]\n",
      " [ 95.7]\n",
      " [290.7]\n",
      " [266.9]\n",
      " [ 74.7]\n",
      " [ 43.1]\n",
      " [228. ]\n",
      " [202.5]\n",
      " [177. ]\n",
      " [293.6]\n",
      " [206.9]\n",
      " [ 25.1]\n",
      " [175.1]\n",
      " [ 89.7]\n",
      " [239.9]\n",
      " [227.2]\n",
      " [ 66.9]\n",
      " [199.8]\n",
      " [100.4]\n",
      " [216.4]\n",
      " [182.6]\n",
      " [262.7]\n",
      " [198.9]\n",
      " [  7.3]\n",
      " [136.2]\n",
      " [210.8]\n",
      " [210.7]\n",
      " [ 53.5]\n",
      " [261.3]\n",
      " [239.3]\n",
      " [102.7]\n",
      " [131.1]\n",
      " [ 69. ]\n",
      " [ 31.5]\n",
      " [139.3]\n",
      " [237.4]\n",
      " [216.8]\n",
      " [199.1]\n",
      " [109.8]\n",
      " [ 26.8]\n",
      " [129.4]\n",
      " [213.4]\n",
      " [ 16.9]\n",
      " [ 27.5]\n",
      " [120.5]\n",
      " [  5.4]\n",
      " [116. ]\n",
      " [ 76.4]\n",
      " [239.8]\n",
      " [ 75.3]\n",
      " [ 68.4]\n",
      " [213.5]\n",
      " [193.2]\n",
      " [ 76.3]\n",
      " [110.7]\n",
      " [ 88.3]\n",
      " [109.8]\n",
      " [134.3]\n",
      " [ 28.6]\n",
      " [217.7]\n",
      " [250.9]\n",
      " [107.4]\n",
      " [163.3]\n",
      " [197.6]\n",
      " [184.9]\n",
      " [289.7]\n",
      " [135.2]\n",
      " [222.4]\n",
      " [296.4]\n",
      " [280.2]\n",
      " [187.9]\n",
      " [238.2]\n",
      " [137.9]\n",
      " [ 25. ]\n",
      " [ 90.4]\n",
      " [ 13.1]\n",
      " [255.4]\n",
      " [225.8]\n",
      " [241.7]\n",
      " [175.7]\n",
      " [209.6]\n",
      " [ 78.2]\n",
      " [ 75.1]\n",
      " [139.2]\n",
      " [ 76.4]\n",
      " [125.7]\n",
      " [ 19.4]\n",
      " [141.3]\n",
      " [ 18.8]\n",
      " [224. ]\n",
      " [123.1]\n",
      " [229.5]\n",
      " [ 87.2]\n",
      " [  7.8]\n",
      " [ 80.2]\n",
      " [220.3]\n",
      " [ 59.6]\n",
      " [  0.7]\n",
      " [265.2]\n",
      " [  8.4]\n",
      " [219.8]\n",
      " [ 36.9]\n",
      " [ 48.3]\n",
      " [ 25.6]\n",
      " [273.7]\n",
      " [ 43. ]\n",
      " [184.9]\n",
      " [ 73.4]\n",
      " [193.7]\n",
      " [220.5]\n",
      " [104.6]\n",
      " [ 96.2]\n",
      " [140.3]\n",
      " [240.1]\n",
      " [243.2]\n",
      " [ 38. ]\n",
      " [ 44.7]\n",
      " [280.7]\n",
      " [121. ]\n",
      " [197.6]\n",
      " [171.3]\n",
      " [187.8]\n",
      " [  4.1]\n",
      " [ 93.9]\n",
      " [149.8]\n",
      " [ 11.7]\n",
      " [131.7]\n",
      " [172.5]\n",
      " [ 85.7]\n",
      " [188.4]\n",
      " [163.5]\n",
      " [117.2]\n",
      " [234.5]\n",
      " [ 17.9]\n",
      " [206.8]\n",
      " [215.4]\n",
      " [284.3]\n",
      " [ 50. ]\n",
      " [164.5]\n",
      " [ 19.6]\n",
      " [168.4]\n",
      " [222.4]\n",
      " [276.9]\n",
      " [248.4]\n",
      " [170.2]\n",
      " [276.7]\n",
      " [165.6]\n",
      " [156.6]\n",
      " [218.5]\n",
      " [ 56.2]\n",
      " [287.6]\n",
      " [253.8]\n",
      " [205. ]\n",
      " [139.5]\n",
      " [191.1]\n",
      " [286. ]\n",
      " [ 18.7]\n",
      " [ 39.5]\n",
      " [ 75.5]\n",
      " [ 17.2]\n",
      " [166.8]\n",
      " [149.7]\n",
      " [ 38.2]\n",
      " [ 94.2]\n",
      " [177. ]\n",
      " [283.6]\n",
      " [232.1]]\n"
     ],
     "output_type":"stream"
    }
   ],
   "metadata":{
    "datalore":{
     "node_id":"BRgJCSmP3CzK5CirjlEpSH",
     "type":"CODE",
     "hide_input_from_viewers":true,
     "hide_output_from_viewers":true
    }
   }
  },
  {
   "cell_type":"code",
   "source":[
    "print(y)"
   ],
   "execution_count":40,
   "outputs":[
    {
     "name":"stdout",
     "text":[
      "0      22.1\n",
      "1      10.4\n",
      "2       9.3\n",
      "3      18.5\n",
      "4      12.9\n",
      "       ... \n",
      "195     7.6\n",
      "196     9.7\n",
      "197    12.8\n",
      "198    25.5\n",
      "199    13.4\n",
      "Name: Sales, Length: 200, dtype: float64\n"
     ],
     "output_type":"stream"
    }
   ],
   "metadata":{
    "datalore":{
     "node_id":"87UoagKQgdIX4XO9Zj0vAq",
     "type":"CODE",
     "hide_input_from_viewers":true,
     "hide_output_from_viewers":true
    }
   }
  },
  {
   "cell_type":"code",
   "source":[
    "print(X.shape,y.shape)"
   ],
   "execution_count":41,
   "outputs":[
    {
     "name":"stdout",
     "text":[
      "(200, 1) (200,)\n"
     ],
     "output_type":"stream"
    }
   ],
   "metadata":{
    "datalore":{
     "node_id":"0qDLoXWWylLZNqWqpju3tR",
     "type":"CODE",
     "hide_input_from_viewers":true,
     "hide_output_from_viewers":true
    }
   }
  },
  {
   "cell_type":"code",
   "source":[
    "from sklearn.model_selection import train_test_split\n",
    "X_train,X_test,y_train,y_test=train_test_split(X,y, test_size=0.33)\n",
    "print(X_train.shape,y_train.shape)"
   ],
   "execution_count":43,
   "outputs":[
    {
     "name":"stdout",
     "text":[
      "(134, 1) (134,)\n"
     ],
     "output_type":"stream"
    }
   ],
   "metadata":{
    "datalore":{
     "node_id":"fgyxVGA4sM4GXa8Z2hQCNm",
     "type":"CODE",
     "hide_input_from_viewers":true,
     "hide_output_from_viewers":true
    }
   }
  },
  {
   "cell_type":"code",
   "source":[
    "from sklearn.metrics import  mean_squared_error , r2_score\n",
    "from sklearn.model_selection import cross_val_score,GridSearchCV\n",
    "from sklearn.neighbors import KNeighborsRegressor\n",
    "from sklearn.svm import SVR\n",
    "from sklearn.tree import DecisionTreeRegressor\n",
    "from sklearn.ensemble import RandomForestRegressor"
   ],
   "execution_count":44,
   "outputs":[
    
   ],
   "metadata":{
    "datalore":{
     "node_id":"VOWUCiYqLXAy8vfgNEzsq8",
     "type":"CODE",
     "hide_input_from_viewers":true,
     "hide_output_from_viewers":true
    }
   }
  },
  {
   "cell_type":"code",
   "source":[
    "knn = KNeighborsRegressor().fit(X_train, y_train)\n",
    "knn"
   ],
   "execution_count":45,
   "outputs":[
    {
     "data":{
      "text\/html":[
       "<style>#sk-container-id-1 {color: black;background-color: white;}#sk-container-id-1 pre{padding: 0;}#sk-container-id-1 div.sk-toggleable {background-color: white;}#sk-container-id-1 label.sk-toggleable__label {cursor: pointer;display: block;width: 100%;margin-bottom: 0;padding: 0.3em;box-sizing: border-box;text-align: center;}#sk-container-id-1 label.sk-toggleable__label-arrow:before {content: \"▸\";float: left;margin-right: 0.25em;color: #696969;}#sk-container-id-1 label.sk-toggleable__label-arrow:hover:before {color: black;}#sk-container-id-1 div.sk-estimator:hover label.sk-toggleable__label-arrow:before {color: black;}#sk-container-id-1 div.sk-toggleable__content {max-height: 0;max-width: 0;overflow: hidden;text-align: left;background-color: #f0f8ff;}#sk-container-id-1 div.sk-toggleable__content pre {margin: 0.2em;color: black;border-radius: 0.25em;background-color: #f0f8ff;}#sk-container-id-1 input.sk-toggleable__control:checked~div.sk-toggleable__content {max-height: 200px;max-width: 100%;overflow: auto;}#sk-container-id-1 input.sk-toggleable__control:checked~label.sk-toggleable__label-arrow:before {content: \"▾\";}#sk-container-id-1 div.sk-estimator input.sk-toggleable__control:checked~label.sk-toggleable__label {background-color: #d4ebff;}#sk-container-id-1 div.sk-label input.sk-toggleable__control:checked~label.sk-toggleable__label {background-color: #d4ebff;}#sk-container-id-1 input.sk-hidden--visually {border: 0;clip: rect(1px 1px 1px 1px);clip: rect(1px, 1px, 1px, 1px);height: 1px;margin: -1px;overflow: hidden;padding: 0;position: absolute;width: 1px;}#sk-container-id-1 div.sk-estimator {font-family: monospace;background-color: #f0f8ff;border: 1px dotted black;border-radius: 0.25em;box-sizing: border-box;margin-bottom: 0.5em;}#sk-container-id-1 div.sk-estimator:hover {background-color: #d4ebff;}#sk-container-id-1 div.sk-parallel-item::after {content: \"\";width: 100%;border-bottom: 1px solid gray;flex-grow: 1;}#sk-container-id-1 div.sk-label:hover label.sk-toggleable__label {background-color: #d4ebff;}#sk-container-id-1 div.sk-serial::before {content: \"\";position: absolute;border-left: 1px solid gray;box-sizing: border-box;top: 0;bottom: 0;left: 50%;z-index: 0;}#sk-container-id-1 div.sk-serial {display: flex;flex-direction: column;align-items: center;background-color: white;padding-right: 0.2em;padding-left: 0.2em;position: relative;}#sk-container-id-1 div.sk-item {position: relative;z-index: 1;}#sk-container-id-1 div.sk-parallel {display: flex;align-items: stretch;justify-content: center;background-color: white;position: relative;}#sk-container-id-1 div.sk-item::before, #sk-container-id-1 div.sk-parallel-item::before {content: \"\";position: absolute;border-left: 1px solid gray;box-sizing: border-box;top: 0;bottom: 0;left: 50%;z-index: -1;}#sk-container-id-1 div.sk-parallel-item {display: flex;flex-direction: column;z-index: 1;position: relative;background-color: white;}#sk-container-id-1 div.sk-parallel-item:first-child::after {align-self: flex-end;width: 50%;}#sk-container-id-1 div.sk-parallel-item:last-child::after {align-self: flex-start;width: 50%;}#sk-container-id-1 div.sk-parallel-item:only-child::after {width: 0;}#sk-container-id-1 div.sk-dashed-wrapped {border: 1px dashed gray;margin: 0 0.4em 0.5em 0.4em;box-sizing: border-box;padding-bottom: 0.4em;background-color: white;}#sk-container-id-1 div.sk-label label {font-family: monospace;font-weight: bold;display: inline-block;line-height: 1.2em;}#sk-container-id-1 div.sk-label-container {text-align: center;}#sk-container-id-1 div.sk-container {\/* jupyter's `normalize.less` sets `[hidden] { display: none; }` but bootstrap.min.css set `[hidden] { display: none !important; }` so we also need the `!important` here to be able to override the default hidden behavior on the sphinx rendered scikit-learn.org. See: https:\/\/github.com\/scikit-learn\/scikit-learn\/issues\/21755 *\/display: inline-block !important;position: relative;}#sk-container-id-1 div.sk-text-repr-fallback {display: none;}<\/style><div id=\"sk-container-id-1\" class=\"sk-top-container\"><div class=\"sk-text-repr-fallback\"><pre>KNeighborsRegressor()<\/pre><b>In a Jupyter environment, please rerun this cell to show the HTML representation or trust the notebook. <br \/>On GitHub, the HTML representation is unable to render, please try loading this page with nbviewer.org.<\/b><\/div><div class=\"sk-container\" hidden><div class=\"sk-item\"><div class=\"sk-estimator sk-toggleable\"><input class=\"sk-toggleable__control sk-hidden--visually\" id=\"sk-estimator-id-1\" type=\"checkbox\" checked><label for=\"sk-estimator-id-1\" class=\"sk-toggleable__label sk-toggleable__label-arrow\">KNeighborsRegressor<\/label><div class=\"sk-toggleable__content\"><pre>KNeighborsRegressor()<\/pre><\/div><\/div><\/div><\/div><\/div>"
      ]
     },
     "metadata":{
      
     },
     "output_type":"display_data"
    }
   ],
   "metadata":{
    "datalore":{
     "node_id":"2FOAS8OlAdnDFmgm1yNSEd",
     "type":"CODE",
     "hide_input_from_viewers":true,
     "hide_output_from_viewers":true
    }
   }
  },
  {
   "cell_type":"code",
   "source":[
    "knn_train_pred = knn.predict(X_train)"
   ],
   "execution_count":46,
   "outputs":[
    
   ],
   "metadata":{
    "datalore":{
     "node_id":"sNFnGM81DSXgVh1PlmEenz",
     "type":"CODE",
     "hide_input_from_viewers":true,
     "hide_output_from_viewers":true
    }
   }
  },
  {
   "cell_type":"code",
   "source":[
    "knn_test_pred = knn.predict(X_test)"
   ],
   "execution_count":47,
   "outputs":[
    
   ],
   "metadata":{
    "datalore":{
     "node_id":"tr2PLJTvbO9edvHv4S8n1j",
     "type":"CODE",
     "hide_input_from_viewers":true,
     "hide_output_from_viewers":true
    }
   }
  },
  {
   "cell_type":"code",
   "source":[
    "print(knn_train_pred, knn_test_pred)"
   ],
   "execution_count":48,
   "outputs":[
    {
     "name":"stdout",
     "text":[
      "[20.58  5.96 12.34 17.28  6.12 12.9  14.88 15.42  6.82 17.48 14.88 10.5\n",
      " 20.98 20.58 16.2  15.   19.16 14.02 10.34  6.82  9.98  9.68 13.7  13.7\n",
      " 15.   10.34  9.96 18.32 14.88 20.86 16.98 20.98 16.98  9.7  20.36 15.24\n",
      "  8.34  9.86 16.94 20.22 21.06  9.84 14.64  5.96 10.34 16.36 17.48  5.58\n",
      " 10.5  16.2  13.22  9.98 10.28 20.58 20.96 13.7   7.54 17.28 10.18  4.94\n",
      " 10.28 19.16 20.98 14.2   9.98 16.98 15.52 14.2  10.32 10.32 13.26 14.66\n",
      " 19.4   9.86 17.28  9.56 14.88 16.02 10.5  12.38  5.96 18.98  5.96 16.02\n",
      " 16.94 19.4  17.36 13.6  13.4  12.34  8.34 16.4  17.36  9.56 15.1  10.5\n",
      "  7.06 12.44 12.34 14.02 17.36 19.36 16.02 18.48 12.9   7.54 14.28 13.22\n",
      "  8.96 19.44 18.32 19.46 12.34 10.36 14.64 13.26  8.88 21.36 14.96 19.4\n",
      " 13.22 15.1  18.48 20.58  7.78 15.36 12.34 15.48 16.98 10.5   5.96  9.98\n",
      " 17.14 10.5 ] [10.92  8.34  9.78 18.26 15.02  9.68 10.28 18.76 18.6  15.38 18.6   8.34\n",
      " 14.96 17.28 20.58 10.6  10.32 21.06  6.82 13.94 14.64 18.48 10.34  7.54\n",
      " 14.38 19.36  7.78 19.46 15.52 20.58 10.34 14.64  9.7  14.74 15.24  7.06\n",
      "  9.78 10.34  7.54 20.58  6.82 14.96  8.34 14.88 10.34 13.26 10.34 10.28\n",
      " 16.08 17.28 19.4  15.38 18.6  10.5  18.6   4.94 11.88 14.88 10.38  8.96\n",
      " 16.98 21.36 17.28 17.14 15.38 14.62]\n"
     ],
     "output_type":"stream"
    }
   ],
   "metadata":{
    "datalore":{
     "node_id":"BNslOIXn5Tu2lSacvr0oHi",
     "type":"CODE",
     "hide_input_from_viewers":true,
     "hide_output_from_viewers":true
    }
   }
  },
  {
   "cell_type":"code",
   "source":[
    "Results = pd.DataFrame(columns=[\"Model\",\"Train R2\",\"Test R2\",\"Test RMSE\",\"Variance\"])"
   ],
   "execution_count":49,
   "outputs":[
    
   ],
   "metadata":{
    "datalore":{
     "node_id":"k4vNIaBHF8t3jbg5PUHw3G",
     "type":"CODE",
     "hide_input_from_viewers":true,
     "hide_output_from_viewers":true
    }
   }
  },
  {
   "cell_type":"code",
   "source":[
    "r2 = r2_score(y_test,knn_test_pred)\n",
    "r2_train = r2_score(y_train,knn_train_pred)\n",
    "rmse = np.sqrt(mean_squared_error(y_test,knn_test_pred))\n",
    "variance = r2_train - r2\n",
    "Results = Results.append({\"Model\":\"K-Nearest Neighbors\",\"Train R2\":r2_train,\"Test R2\":r2,\"Test RMSE\":rmse,\"Variance\":variance},ignore_index=True)\n",
    "print(\"R2:\",r2)\n",
    "print(\"RMSE:\",rmse)"
   ],
   "execution_count":50,
   "outputs":[
    {
     "name":"stdout",
     "text":[
      "R2: 0.4921614510360812\n",
      "RMSE: 3.707606431991596\n"
     ],
     "output_type":"stream"
    }
   ],
   "metadata":{
    "datalore":{
     "node_id":"FUYfJbQF5FqcnR8Zhjev4L",
     "type":"CODE",
     "hide_input_from_viewers":true,
     "hide_output_from_viewers":true
    }
   }
  },
  {
   "cell_type":"code",
   "source":[
    "print(Results.head())"
   ],
   "execution_count":52,
   "outputs":[
    {
     "name":"stdout",
     "text":[
      "                 Model  Train R2   Test R2  Test RMSE  Variance\n",
      "0  K-Nearest Neighbors  0.683838  0.492161   3.707606  0.191677\n"
     ],
     "output_type":"stream"
    }
   ],
   "metadata":{
    "datalore":{
     "node_id":"eS4g6P13wOQogeJplKgPYt",
     "type":"CODE",
     "hide_input_from_viewers":true,
     "hide_output_from_viewers":true
    }
   }
  },
  {
   "cell_type":"code",
   "source":[
    "svr = SVR().fit(X_train,y_train)\n",
    "svr"
   ],
   "execution_count":53,
   "outputs":[
    {
     "data":{
      "text\/html":[
       "<style>#sk-container-id-2 {color: black;background-color: white;}#sk-container-id-2 pre{padding: 0;}#sk-container-id-2 div.sk-toggleable {background-color: white;}#sk-container-id-2 label.sk-toggleable__label {cursor: pointer;display: block;width: 100%;margin-bottom: 0;padding: 0.3em;box-sizing: border-box;text-align: center;}#sk-container-id-2 label.sk-toggleable__label-arrow:before {content: \"▸\";float: left;margin-right: 0.25em;color: #696969;}#sk-container-id-2 label.sk-toggleable__label-arrow:hover:before {color: black;}#sk-container-id-2 div.sk-estimator:hover label.sk-toggleable__label-arrow:before {color: black;}#sk-container-id-2 div.sk-toggleable__content {max-height: 0;max-width: 0;overflow: hidden;text-align: left;background-color: #f0f8ff;}#sk-container-id-2 div.sk-toggleable__content pre {margin: 0.2em;color: black;border-radius: 0.25em;background-color: #f0f8ff;}#sk-container-id-2 input.sk-toggleable__control:checked~div.sk-toggleable__content {max-height: 200px;max-width: 100%;overflow: auto;}#sk-container-id-2 input.sk-toggleable__control:checked~label.sk-toggleable__label-arrow:before {content: \"▾\";}#sk-container-id-2 div.sk-estimator input.sk-toggleable__control:checked~label.sk-toggleable__label {background-color: #d4ebff;}#sk-container-id-2 div.sk-label input.sk-toggleable__control:checked~label.sk-toggleable__label {background-color: #d4ebff;}#sk-container-id-2 input.sk-hidden--visually {border: 0;clip: rect(1px 1px 1px 1px);clip: rect(1px, 1px, 1px, 1px);height: 1px;margin: -1px;overflow: hidden;padding: 0;position: absolute;width: 1px;}#sk-container-id-2 div.sk-estimator {font-family: monospace;background-color: #f0f8ff;border: 1px dotted black;border-radius: 0.25em;box-sizing: border-box;margin-bottom: 0.5em;}#sk-container-id-2 div.sk-estimator:hover {background-color: #d4ebff;}#sk-container-id-2 div.sk-parallel-item::after {content: \"\";width: 100%;border-bottom: 1px solid gray;flex-grow: 1;}#sk-container-id-2 div.sk-label:hover label.sk-toggleable__label {background-color: #d4ebff;}#sk-container-id-2 div.sk-serial::before {content: \"\";position: absolute;border-left: 1px solid gray;box-sizing: border-box;top: 0;bottom: 0;left: 50%;z-index: 0;}#sk-container-id-2 div.sk-serial {display: flex;flex-direction: column;align-items: center;background-color: white;padding-right: 0.2em;padding-left: 0.2em;position: relative;}#sk-container-id-2 div.sk-item {position: relative;z-index: 1;}#sk-container-id-2 div.sk-parallel {display: flex;align-items: stretch;justify-content: center;background-color: white;position: relative;}#sk-container-id-2 div.sk-item::before, #sk-container-id-2 div.sk-parallel-item::before {content: \"\";position: absolute;border-left: 1px solid gray;box-sizing: border-box;top: 0;bottom: 0;left: 50%;z-index: -1;}#sk-container-id-2 div.sk-parallel-item {display: flex;flex-direction: column;z-index: 1;position: relative;background-color: white;}#sk-container-id-2 div.sk-parallel-item:first-child::after {align-self: flex-end;width: 50%;}#sk-container-id-2 div.sk-parallel-item:last-child::after {align-self: flex-start;width: 50%;}#sk-container-id-2 div.sk-parallel-item:only-child::after {width: 0;}#sk-container-id-2 div.sk-dashed-wrapped {border: 1px dashed gray;margin: 0 0.4em 0.5em 0.4em;box-sizing: border-box;padding-bottom: 0.4em;background-color: white;}#sk-container-id-2 div.sk-label label {font-family: monospace;font-weight: bold;display: inline-block;line-height: 1.2em;}#sk-container-id-2 div.sk-label-container {text-align: center;}#sk-container-id-2 div.sk-container {\/* jupyter's `normalize.less` sets `[hidden] { display: none; }` but bootstrap.min.css set `[hidden] { display: none !important; }` so we also need the `!important` here to be able to override the default hidden behavior on the sphinx rendered scikit-learn.org. See: https:\/\/github.com\/scikit-learn\/scikit-learn\/issues\/21755 *\/display: inline-block !important;position: relative;}#sk-container-id-2 div.sk-text-repr-fallback {display: none;}<\/style><div id=\"sk-container-id-2\" class=\"sk-top-container\"><div class=\"sk-text-repr-fallback\"><pre>SVR()<\/pre><b>In a Jupyter environment, please rerun this cell to show the HTML representation or trust the notebook. <br \/>On GitHub, the HTML representation is unable to render, please try loading this page with nbviewer.org.<\/b><\/div><div class=\"sk-container\" hidden><div class=\"sk-item\"><div class=\"sk-estimator sk-toggleable\"><input class=\"sk-toggleable__control sk-hidden--visually\" id=\"sk-estimator-id-2\" type=\"checkbox\" checked><label for=\"sk-estimator-id-2\" class=\"sk-toggleable__label sk-toggleable__label-arrow\">SVR<\/label><div class=\"sk-toggleable__content\"><pre>SVR()<\/pre><\/div><\/div><\/div><\/div><\/div>"
      ]
     },
     "metadata":{
      
     },
     "output_type":"display_data"
    }
   ],
   "metadata":{
    "datalore":{
     "node_id":"BYyfGAttal2dbQuBhZCVtw",
     "type":"CODE",
     "hide_input_from_viewers":true,
     "hide_output_from_viewers":true
    }
   }
  },
  {
   "cell_type":"code",
   "source":[
    "svr_train_pred = svr.predict(X_train)\n",
    "svr_test_pred = svr.predict(X_test)"
   ],
   "execution_count":54,
   "outputs":[
    
   ],
   "metadata":{
    "datalore":{
     "node_id":"jhZjeHs0UjPD7YAtkgaVnm",
     "type":"CODE",
     "hide_input_from_viewers":true,
     "hide_output_from_viewers":true
    }
   }
  },
  {
   "cell_type":"code",
   "source":[
    "print(svr_train_pred,svr_test_pred)"
   ],
   "execution_count":55,
   "outputs":[
    {
     "name":"stdout",
     "text":[
      "[18.4033532   7.33645568 13.30947657 18.1613952   7.38788373 13.47641926\n",
      " 16.19634704 18.07048621  7.48744155 16.58247784 16.12220737 10.75226955\n",
      " 18.60965793 18.46627706 15.02627521 16.48844529 16.77496752 12.62092473\n",
      " 10.04777213  7.48744155 11.14804332  8.15908153 11.80646764 11.85310528\n",
      " 17.24579741 10.04777213  8.61642559 17.04875225 16.23097244 18.71020956\n",
      " 17.55782285 18.53770625 17.60750417  8.37362285 18.73131973 17.33572817\n",
      "  7.70816562  8.22177791 15.49957333 17.00018769 18.58625878  9.31004814\n",
      " 14.46121511  7.35000086 10.00018805 16.71584611 16.57753149  7.32237082\n",
      " 10.7892944  15.05510324 12.35689577 11.06907252  9.59523262 18.39089382\n",
      " 18.75601089 11.80646764  7.5210286  18.08976997 11.16382471  7.30924839\n",
      "  9.50660808 16.96609546 18.62616734 13.81227825 11.09540769 17.66110994\n",
      " 14.62864098 13.89449232  9.65800061  9.66847717 13.09684388 14.14012136\n",
      " 18.67411413  8.16735336 18.10125485  9.00059775 16.23097244 17.9956375\n",
      "  8.44088044 12.18811724  7.34894514 18.78975458  7.34687426 18.02744987\n",
      " 15.49957333 16.90259138 15.90534215 11.96685839 11.68182175 11.53591313\n",
      "  7.76843622 17.77494404 16.01364632  8.86681398 13.80743615  8.44993994\n",
      "  7.41125134 12.12651873 13.3488493  12.4892121  15.92993194 17.15013385\n",
      " 17.9956375  18.8173417  13.39798481  7.53760567 17.41063608 12.3415905\n",
      "  9.17200431 18.83295852 17.06812899 18.8327365  13.29469691 11.3161431\n",
      " 14.51862486 13.14644646  7.90641186 18.7867782  14.79133525 16.90748445\n",
      " 12.38238723 13.6910132  18.80830696 18.76969643  7.65441163 17.49389169\n",
      " 13.29962437 17.87691191 17.59400479 10.61993388  7.34098709 10.9900011\n",
      " 17.21242388 10.67817975] [10.24897084  7.80492096  8.69710746 16.77004528 16.36463538  8.11408438\n",
      "  9.54826749 17.11161603 15.67010353 15.11762022 15.64080904  7.74581988\n",
      " 14.84401429 18.21600905 18.73368849 10.14302975  9.74192381 18.54600412\n",
      "  7.50278408 16.44387771 14.47078442 18.81381005  9.95792198  7.54244597\n",
      " 12.92249351 17.14532654  7.68987864 18.83229651 14.70518477 18.73685018\n",
      "  9.97905111 14.57124196  8.37806799 12.89248869 17.33572817  7.40960343\n",
      " 10.97417546 10.04248335  7.52336192 18.7747417   7.48104563 14.90151835\n",
      "  7.69290111 16.12220737  9.88931237 13.0521213   9.98961864  9.62659651\n",
      " 15.38796938 18.10125485 18.69390442 15.11762022 15.80223646 10.54047124\n",
      " 15.64568971  7.31562332 13.23055692 16.18645696 11.43662208  9.06578065\n",
      " 17.68766879 18.77858614 18.09360543 17.23627465 15.30086869 12.80729063]\n"
     ],
     "output_type":"stream"
    }
   ],
   "metadata":{
    "datalore":{
     "node_id":"GPzHLPbaXeCAyOjhUkmrQb",
     "type":"CODE",
     "hide_input_from_viewers":true,
     "hide_output_from_viewers":true
    }
   }
  },
  {
   "cell_type":"code",
   "source":[
    "r2 = r2_score(y_test,svr_test_pred)\n",
    "r2_train = r2_score(y_train,svr_train_pred)\n",
    "rmse = np.sqrt(mean_squared_error(y_test,svr_test_pred))\n",
    "variance = r2_train - r2\n",
    "Results = Results.append({\"Model\":\"Support Vector Machine\",\"Train R2\":r2_train,\"Test R2\":r2,\"Test RMSE\":rmse,\"Variance\":variance},ignore_index=True)\n",
    "print(\"R2:\",r2)\n",
    "print(\"RMSE:\",rmse)"
   ],
   "execution_count":56,
   "outputs":[
    {
     "name":"stdout",
     "text":[
      "R2: 0.5641491113339764\n",
      "RMSE: 3.434786622076167\n"
     ],
     "output_type":"stream"
    }
   ],
   "metadata":{
    "datalore":{
     "node_id":"zdaa6NbjXTawB4R0xyitUi",
     "type":"CODE",
     "hide_input_from_viewers":true,
     "hide_output_from_viewers":true
    }
   }
  },
  {
   "cell_type":"code",
   "source":[
    "Results.head()"
   ],
   "execution_count":57,
   "outputs":[
    {
     "data":{
      "text\/html":[
       "<div>\n",
       "<style scoped>\n",
       "    .dataframe tbody tr th:only-of-type {\n",
       "        vertical-align: middle;\n",
       "    }\n",
       "\n",
       "    .dataframe tbody tr th {\n",
       "        vertical-align: top;\n",
       "    }\n",
       "\n",
       "    .dataframe thead th {\n",
       "        text-align: right;\n",
       "    }\n",
       "<\/style>\n",
       "<table border=\"1\" class=\"dataframe\">\n",
       "  <thead>\n",
       "    <tr style=\"text-align: right;\">\n",
       "      <th><\/th>\n",
       "      <th>Model<\/th>\n",
       "      <th>Train R2<\/th>\n",
       "      <th>Test R2<\/th>\n",
       "      <th>Test RMSE<\/th>\n",
       "      <th>Variance<\/th>\n",
       "    <\/tr>\n",
       "  <\/thead>\n",
       "  <tbody>\n",
       "    <tr>\n",
       "      <th>0<\/th>\n",
       "      <td>K-Nearest Neighbors<\/td>\n",
       "      <td>0.683838<\/td>\n",
       "      <td>0.492161<\/td>\n",
       "      <td>3.707606<\/td>\n",
       "      <td>0.191677<\/td>\n",
       "    <\/tr>\n",
       "    <tr>\n",
       "      <th>1<\/th>\n",
       "      <td>Support Vector Machine<\/td>\n",
       "      <td>0.605530<\/td>\n",
       "      <td>0.564149<\/td>\n",
       "      <td>3.434787<\/td>\n",
       "      <td>0.041381<\/td>\n",
       "    <\/tr>\n",
       "  <\/tbody>\n",
       "<\/table>\n",
       "<\/div>"
      ]
     },
     "metadata":{
      
     },
     "output_type":"display_data"
    }
   ],
   "metadata":{
    "datalore":{
     "node_id":"VTCa6qBwFw0twcXoVCAjTp",
     "type":"CODE",
     "hide_input_from_viewers":true,
     "hide_output_from_viewers":true
    }
   }
  },
  {
   "cell_type":"code",
   "source":[
    "import statsmodels.api as sm   \n",
    "X_train_constant = sm.add_constant(X_train)     \n",
    "model = sm.OLS(y_train, X_train_constant).fit()     \n",
    "model.params"
   ],
   "execution_count":58,
   "outputs":[
    {
     "data":{
      "text\/html":[
       "<pre>const    6.728204\n",
       "x1       0.047579\n",
       "dtype: float64<\/pre>"
      ]
     },
     "metadata":{
      
     },
     "output_type":"display_data"
    }
   ],
   "metadata":{
    "datalore":{
     "node_id":"xiKBP5ej1hGlUJeskaal66",
     "type":"CODE",
     "hide_input_from_viewers":true,
     "hide_output_from_viewers":true
    }
   }
  },
  {
   "cell_type":"code",
   "source":[
    "print(model.summary())"
   ],
   "execution_count":59,
   "outputs":[
    {
     "name":"stdout",
     "text":[
      "                            OLS Regression Results                            \n",
      "==============================================================================\n",
      "Dep. Variable:                  Sales   R-squared:                       0.620\n",
      "Model:                            OLS   Adj. R-squared:                  0.617\n",
      "Method:                 Least Squares   F-statistic:                     215.1\n",
      "Date:                Thu, 29 Jun 2023   Prob (F-statistic):           1.71e-29\n",
      "Time:                        15:53:48   Log-Likelihood:                -346.14\n",
      "No. Observations:                 134   AIC:                             696.3\n",
      "Df Residuals:                     132   BIC:                             702.1\n",
      "Df Model:                           1                                         \n",
      "Covariance Type:            nonrobust                                         \n",
      "==============================================================================\n",
      "                 coef    std err          t      P>|t|      [0.025      0.975]\n",
      "------------------------------------------------------------------------------\n",
      "const          6.7282      0.559     12.040      0.000       5.623       7.834\n",
      "x1             0.0476      0.003     14.666      0.000       0.041       0.054\n",
      "==============================================================================\n",
      "Omnibus:                        0.794   Durbin-Watson:                   2.112\n",
      "Prob(Omnibus):                  0.672   Jarque-Bera (JB):                0.919\n",
      "Skew:                          -0.141   Prob(JB):                        0.632\n",
      "Kurtosis:                       2.709   Cond. No.                         345.\n",
      "==============================================================================\n",
      "\n",
      "Notes:\n",
      "[1] Standard Errors assume that the covariance matrix of the errors is correctly specified.\n"
     ],
     "output_type":"stream"
    }
   ],
   "metadata":{
    "datalore":{
     "node_id":"QSrwuk0KbgOS4UnryfaaQW",
     "type":"CODE",
     "hide_input_from_viewers":true,
     "hide_output_from_viewers":true
    }
   }
  },
  {
   "cell_type":"code",
   "source":[
    "plt.scatter(X_train, y_train)\n",
    "plt.plot(X_train, 6.9955 + 0.0541 * X_train, 'y')\n",
    "plt.show()"
   ],
   "execution_count":60,
   "outputs":[
    {
     "data":{
      "image\/png":"[encoded data removed]"
     },
     "metadata":{
      "image\/png":{
       
      }
     },
     "output_type":"display_data"
    }
   ],
   "metadata":{
    "datalore":{
     "node_id":"mcpgzB1lNxp1u0KGxooWF7",
     "type":"CODE",
     "hide_input_from_viewers":true,
     "hide_output_from_viewers":true
    }
   }
  },
  {
   "cell_type":"code",
   "source":[
    "y_train_pred = model.predict(X_train_constant)\n",
    "res = (y_train - y_train_pred)\n",
    "res"
   ],
   "execution_count":61,
   "outputs":[
    {
     "data":{
      "text\/html":[
       "<pre>28     0.334108\n",
       "56    -1.575532\n",
       "186   -3.065493\n",
       "111    3.571920\n",
       "158    0.015120\n",
       "         ...   \n",
       "125   -0.277105\n",
       "126   -0.499322\n",
       "196   -1.510159\n",
       "133    2.413902\n",
       "88     1.970558\n",
       "Name: Sales, Length: 134, dtype: float64<\/pre>"
      ]
     },
     "metadata":{
      
     },
     "output_type":"display_data"
    }
   ],
   "metadata":{
    "datalore":{
     "node_id":"ymePMZPrFStXpfF6jxsNQF",
     "type":"CODE",
     "hide_input_from_viewers":true,
     "hide_output_from_viewers":true
    }
   }
  },
  {
   "cell_type":"code",
   "source":[
    "y_train_pred"
   ],
   "execution_count":62,
   "outputs":[
    {
     "data":{
      "text\/html":[
       "<pre>array([18.56589233,  7.07553205, 13.36549325, 18.2280805 ,  7.28488023,\n",
       "       13.5272623 , 16.20120949, 18.11389058,  7.54656546, 16.57232672,\n",
       "       16.1298408 , 10.9960525 , 20.69743743, 18.66580851, 15.05931034,\n",
       "       16.48192637, 16.75788533, 12.70890123, 10.36325005,  7.54656546,\n",
       "       11.35289598,  8.53621139, 11.95239304, 11.99521426, 17.21940291,\n",
       "       10.36325005,  9.02627645, 17.02432847, 16.23451489, 19.16063148,\n",
       "       17.53818309, 20.830659  , 17.59052014,  8.77410705, 20.41196264,\n",
       "       17.30980326,  7.94623016,  8.60758009, 15.52558582, 16.97674934,\n",
       "       18.8799146 ,  9.69238429, 14.49787658,  7.14214284, 10.32042883,\n",
       "       16.70079038, 16.56756881,  6.9851317 , 11.02935789, 15.08785781,\n",
       "       12.46148975, 11.28152729,  9.95406951, 18.54686068, 20.33583603,\n",
       "       11.95239304,  7.61793415, 18.13768015, 11.36716972,  6.76150978,\n",
       "        9.87318499, 16.94344395, 20.66413204, 13.85555831, 11.30531685,\n",
       "       17.64761509, 14.66440354, 13.93644283, 10.01116447, 10.0206803 ,\n",
       "       13.16090298, 14.1790964 , 20.55945795,  8.54572722, 18.15195389,\n",
       "        9.40215159, 16.23451489, 18.02349023,  8.84547575, 12.30447862,\n",
       "        7.13738492, 19.42707462,  7.1278691 , 18.06155354, 15.52558582,\n",
       "       16.88159108, 15.92049262, 12.09988835, 11.83820313, 11.70498156,\n",
       "        8.03663051, 17.77132084, 16.02516671,  9.27368793, 13.85080039,\n",
       "        8.85499157,  7.35624893, 12.24738366, 13.40355656, 12.58519549,\n",
       "       15.94428218, 17.12424465, 18.02349023, 20.05987707, 13.45113569,\n",
       "        7.65123955, 17.38592987, 12.44721601,  9.56392064, 19.75061271,\n",
       "       17.04336012, 19.89335011, 13.35121951, 11.5051492 , 14.55497154,\n",
       "       13.20848212,  8.22694704, 20.22164611, 14.82617259, 16.88634899,\n",
       "       12.48527932, 13.73661048, 20.11697202, 19.34619009,  7.86058772,\n",
       "       17.47157231, 13.35597742, 17.88551075, 17.5762464 , 10.87710467,\n",
       "        7.09932162, 11.21015859, 17.18609752, 10.92944171])<\/pre>"
      ]
     },
     "metadata":{
      
     },
     "output_type":"display_data"
    }
   ],
   "metadata":{
    "datalore":{
     "node_id":"ByhvbV2LUKvEErGkznxKwo",
     "type":"CODE",
     "hide_input_from_viewers":true,
     "hide_output_from_viewers":true
    }
   }
  },
  {
   "cell_type":"code",
   "source":[
    "fig = plt.figure()\n",
    "sns.distplot(res, bins = 15)\n",
    "fig.suptitle('Error Terms', fontsize = 15)\n",
    "plt.xlabel('Difference in y_train and y_train_pred', fontsize = 10)\n",
    "plt.show()"
   ],
   "execution_count":64,
   "outputs":[
    {
     "data":{
      "image\/png":"[encoded data removed]"
     },
     "metadata":{
      "image\/png":{
       
      }
     },
     "output_type":"display_data"
    }
   ],
   "metadata":{
    "datalore":{
     "node_id":"JG6wQH2QiwOSMpcPrc5lTj",
     "type":"CODE",
     "hide_input_from_viewers":true,
     "hide_output_from_viewers":true
    }
   }
  },
  {
   "cell_type":"code",
   "source":[
    "plt.scatter(X_train, res)\n",
    "plt.show()"
   ],
   "execution_count":65,
   "outputs":[
    {
     "data":{
      "image\/png":"[encoded data removed]"
     },
     "metadata":{
      "image\/png":{
       
      }
     },
     "output_type":"display_data"
    }
   ],
   "metadata":{
    "datalore":{
     "node_id":"Kq8apAOTDutvb2jlh5cH7r",
     "type":"CODE",
     "hide_input_from_viewers":true,
     "hide_output_from_viewers":true
    }
   }
  },
  {
   "cell_type":"code",
   "source":[
    "X_test_constant = sm.add_constant(X_test)\n",
    "y_pred = model.predict(X_test_constant)    \n",
    "y_pred"
   ],
   "execution_count":66,
   "outputs":[
    {
     "data":{
      "text\/html":[
       "<pre>array([10.54405075,  8.08896756,  9.10716097, 16.75312742, 16.36297854,\n",
       "        8.48387435,  9.9112483 , 17.08618134, 15.69211279, 15.14971069,\n",
       "       15.66356531,  8.00332512, 14.87850963, 18.2994492 , 19.22724226,\n",
       "       10.44889248, 10.08729108, 18.80378799,  7.57987085, 16.43910515,\n",
       "       14.50739241, 20.08366663, 10.28236552,  7.66075537, 12.99437602,\n",
       "       17.11948673,  7.91768268, 19.90286593, 14.74053015, 19.23675809,\n",
       "       10.30139718, 14.60730858,  8.77886496, 12.96582854, 17.30980326,\n",
       "        7.35149102, 11.19588485, 10.35849213,  7.62269207, 19.36522174,\n",
       "        7.53229172, 14.93560459,  7.9224406 , 16.1298408 , 10.22051265,\n",
       "       13.11808177, 10.310913  ,  9.98261699, 15.41615382, 18.15195389,\n",
       "       20.51187882, 15.14971069, 15.82057644, 10.80573597, 15.66832322,\n",
       "        6.92327883, 13.28936664, 16.19169367, 11.61458121,  9.46400446,\n",
       "       17.67616257, 20.25495151, 18.14243806, 17.20988708, 15.33051139,\n",
       "       12.88494402])<\/pre>"
      ]
     },
     "metadata":{
      
     },
     "output_type":"display_data"
    }
   ],
   "metadata":{
    "datalore":{
     "node_id":"Y8afBF0M9d5tFwEbjwq3Qr",
     "type":"CODE",
     "hide_input_from_viewers":true,
     "hide_output_from_viewers":true
    }
   }
  },
  {
   "cell_type":"code",
   "source":[
    "from sklearn.metrics import mean_squared_error\n",
    "from sklearn.metrics import r2_score"
   ],
   "execution_count":67,
   "outputs":[
    
   ],
   "metadata":{
    "datalore":{
     "node_id":"99AGSn7Ib4RVnD9J9SXd9U",
     "type":"CODE",
     "hide_input_from_viewers":true,
     "hide_output_from_viewers":true
    }
   }
  },
  {
   "cell_type":"code",
   "source":[
    "np.sqrt(mean_squared_error(y_test, y_pred))"
   ],
   "execution_count":68,
   "outputs":[
    {
     "data":{
      "text\/plain":[
       "3.360270919000757"
      ]
     },
     "metadata":{
      
     },
     "output_type":"display_data"
    }
   ],
   "metadata":{
    "datalore":{
     "node_id":"ifYNhmgQqz1crxPuZgVRXN",
     "type":"CODE",
     "hide_input_from_viewers":true,
     "hide_output_from_viewers":true
    }
   }
  },
  {
   "cell_type":"code",
   "source":[
    "r2 = r2_score(y_test, y_pred)\n",
    "r2"
   ],
   "execution_count":69,
   "outputs":[
    {
     "data":{
      "text\/plain":[
       "0.5828550433908223"
      ]
     },
     "metadata":{
      
     },
     "output_type":"display_data"
    }
   ],
   "metadata":{
    "datalore":{
     "node_id":"NsHqxMdPGhEgRBA2o7LQPf",
     "type":"CODE",
     "hide_input_from_viewers":true,
     "hide_output_from_viewers":true
    }
   }
  },
  {
   "cell_type":"code",
   "source":[
    "plt.scatter(X_test, y_test)\n",
    "plt.plot(X_test, 6.9955 + 0.0541 * X_test, 'y')\n",
    "plt.show()"
   ],
   "execution_count":70,
   "outputs":[
    {
     "data":{
      "image\/png":"[encoded data removed]"
     },
     "metadata":{
      "image\/png":{
       
      }
     },
     "output_type":"display_data"
    }
   ],
   "metadata":{
    "datalore":{
     "node_id":"4IrKvUxSRm5VgM4B6aDshA",
     "type":"CODE",
     "hide_input_from_viewers":true,
     "hide_output_from_viewers":true
    }
   }
  }
 ],
 "metadata":{
  "kernelspec":{
   "display_name":"Python",
   "language":"python",
   "name":"python"
  },
  "datalore":{
   "computation_mode":"JUPYTER",
   "package_manager":"pip",
   "base_environment":"default",
   "packages":[
    
   ],
   "report_row_ids":[
    
   ],
   "version":3
  }
 },
 "nbformat":4,
 "nbformat_minor":4
}